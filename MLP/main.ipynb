{
 "cells": [
  {
   "cell_type": "code",
   "execution_count": 263,
   "id": "17c61bd7",
   "metadata": {},
   "outputs": [],
   "source": [
    "import torch"
   ]
  },
  {
   "cell_type": "code",
   "execution_count": 258,
   "id": "b409ed66",
   "metadata": {},
   "outputs": [],
   "source": [
    "class MLP:\n",
    "    def __init__(self, num_inputs, num_outputs):\n",
    "        self.num_inputs, self.num_outputs = num_inputs, num_outputs\n",
    "        self.params = self._init_params()\n",
    "        \n",
    "    def _init_params(self):\n",
    "        \"\"\"初始化参数\"\"\"\n",
    "        num_inputs = self.num_inputs; num_outputs = self.num_outputs\n",
    "        def normal(shape):\n",
    "            return torch.randn(size=shape, device=device) * 0.01\n",
    "        W = normal((num_inputs, num_outputs)); b = torch.zeros(num_outputs, device=device)\n",
    "        params = [W, b]\n",
    "        for param in params:\n",
    "            param.requires_grad_(True)\n",
    "        return params\n",
    "    \n",
    "    def _forward(self, inputs):\n",
    "        \"\"\"推理函数\"\"\"\n",
    "        outputs = []\n",
    "        W, b = self.params\n",
    "        for X in inputs:\n",
    "            Y = X @ W + b\n",
    "            outputs.append(Y)\n",
    "        return torch.cat(outputs, dim=0)\n",
    "    \n",
    "    def update(self, X, y, lr):\n",
    "        \"\"\"更新函数\"\"\"\n",
    "        y_hat = self._forward(X)\n",
    "        l = self._loss(y_hat, y.T.reshape(-1))\n",
    "        l.sum().backward()\n",
    "        \"\"\"sgd\"\"\"\n",
    "        with torch.no_grad():\n",
    "            for param in self.params:\n",
    "                param -= lr * param.grad / X.shape[0]\n",
    "                param.grad.zero_()\n",
    "        return l\n",
    "                \n",
    "    def _loss(self, y_hat, y):\n",
    "        \"\"\"均方损失\"\"\"\n",
    "        return (y_hat - y.reshape(y_hat.shape)) ** 2 / 2\n",
    "                \n",
    "    def __call__(self, X):\n",
    "        return self._forward(X)"
   ]
  },
  {
   "cell_type": "code",
   "execution_count": 259,
   "id": "1409f517",
   "metadata": {
    "scrolled": true
   },
   "outputs": [],
   "source": [
    "def synthetic_data(w, b, num_examples):  #@save\n",
    "    \"\"\"生成y=Xw+b+噪声\"\"\"\n",
    "    X = torch.normal(0, 1, (num_examples, len(w)))\n",
    "    y = torch.matmul(X, w) + b\n",
    "    y += torch.normal(0, 0.01, y.shape)\n",
    "    return X, y.reshape((-1, 1))\n",
    "\n",
    "true_w = torch.tensor([2, -3.4])\n",
    "true_b = 4.2\n",
    "features, labels = synthetic_data(true_w, true_b, 1000)\n",
    "\n",
    "def data_iter(batch_size, features, labels):\n",
    "    num_examples = len(features)\n",
    "    indices = list(range(num_examples))\n",
    "    # 这些样本是随机读取的，没有特定的顺序\n",
    "    random.shuffle(indices)\n",
    "    for i in range(0, num_examples, batch_size):\n",
    "        batch_indices = torch.tensor(\n",
    "            indices[i: min(i + batch_size, num_examples)])\n",
    "        yield features[batch_indices], labels[batch_indices]"
   ]
  },
  {
   "cell_type": "code",
   "execution_count": 260,
   "id": "e9a8ae5f",
   "metadata": {},
   "outputs": [],
   "source": [
    "batch_size, device = 32, 'cpu'\n",
    "num_epochs, num_inputs, num_outputs = 10, 2, 1\n",
    "net = MLP(num_inputs, num_outputs)"
   ]
  },
  {
   "cell_type": "code",
   "execution_count": 261,
   "id": "7f2a742a",
   "metadata": {},
   "outputs": [
    {
     "name": "stdout",
     "output_type": "stream",
     "text": [
      "epoch 1 loss 0.754812\n",
      "epoch 2 loss 0.000058\n",
      "epoch 3 loss 0.000056\n",
      "epoch 4 loss 0.000055\n",
      "epoch 5 loss 0.000061\n",
      "epoch 6 loss 0.000062\n",
      "epoch 7 loss 0.000056\n",
      "epoch 8 loss 0.000056\n",
      "epoch 9 loss 0.000055\n",
      "epoch 10 loss 0.000054\n"
     ]
    }
   ],
   "source": [
    "for epoch in range(num_epochs):\n",
    "    metrics = [0, 0]\n",
    "    for X, y in data_iter(batch_size, features, labels):\n",
    "        l = net.update(X, y, lr=1)\n",
    "        metrics[0] += l.sum(); metrics[1] += y.numel()\n",
    "    print('epoch %d loss %f' % (epoch + 1, metrics[0] / metrics[1]))"
   ]
  },
  {
   "cell_type": "code",
   "execution_count": 262,
   "id": "ae9d88c8",
   "metadata": {
    "scrolled": true
   },
   "outputs": [
    {
     "name": "stdout",
     "output_type": "stream",
     "text": [
      "w的估计误差: tensor([-0.0015,  0.0018], grad_fn=<SubBackward0>)\n",
      "b的估计误差: tensor([-0.0003], grad_fn=<RsubBackward1>)\n"
     ]
    }
   ],
   "source": [
    "W, b = net.params\n",
    "print(f'w的估计误差: {true_w - W.reshape(true_w.shape)}')\n",
    "print(f'b的估计误差: {true_b - b}')"
   ]
  },
  {
   "cell_type": "code",
   "execution_count": null,
   "id": "5afc1215",
   "metadata": {},
   "outputs": [],
   "source": []
  },
  {
   "cell_type": "code",
   "execution_count": null,
   "id": "9d91451d",
   "metadata": {},
   "outputs": [],
   "source": []
  },
  {
   "cell_type": "code",
   "execution_count": null,
   "id": "7b5429c8",
   "metadata": {},
   "outputs": [],
   "source": []
  },
  {
   "cell_type": "code",
   "execution_count": null,
   "id": "c0c47af4",
   "metadata": {},
   "outputs": [],
   "source": []
  },
  {
   "cell_type": "code",
   "execution_count": null,
   "id": "67a838f5",
   "metadata": {},
   "outputs": [],
   "source": []
  },
  {
   "cell_type": "code",
   "execution_count": null,
   "id": "4a71b60d",
   "metadata": {},
   "outputs": [],
   "source": []
  },
  {
   "cell_type": "code",
   "execution_count": null,
   "id": "6ace6530",
   "metadata": {},
   "outputs": [],
   "source": []
  }
 ],
 "metadata": {
  "kernelspec": {
   "display_name": "dl",
   "language": "python",
   "name": "dl"
  },
  "language_info": {
   "codemirror_mode": {
    "name": "ipython",
    "version": 3
   },
   "file_extension": ".py",
   "mimetype": "text/x-python",
   "name": "python",
   "nbconvert_exporter": "python",
   "pygments_lexer": "ipython3",
   "version": "3.8.16"
  }
 },
 "nbformat": 4,
 "nbformat_minor": 5
}
