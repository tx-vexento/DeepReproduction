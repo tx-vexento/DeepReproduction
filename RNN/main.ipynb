{
 "cells": [
  {
   "cell_type": "code",
   "execution_count": 66,
   "id": "2385c719",
   "metadata": {},
   "outputs": [],
   "source": [
    "import torch"
   ]
  },
  {
   "cell_type": "code",
   "execution_count": 67,
   "id": "8dfbf10a",
   "metadata": {},
   "outputs": [],
   "source": [
    "class RNN:\n",
    "    def __init__(self, vocab_size, num_hiddens):\n",
    "        self.vocab_size, self.num_hiddens = vocab_size, num_hiddens\n",
    "        self.params = self._init_params()\n",
    "        \n",
    "    def _init_params(self):\n",
    "        num_inputs = num_outputs = self.vocab_size; num_hiddens = self.num_hiddens\n",
    "        def normal(shape):\n",
    "            return torch.randn(size=shape, device=device) * 0.01\n",
    "        W_xh = normal((num_inputs, num_hiddens)); \n",
    "        W_hh = normal((num_hiddens, num_hiddens))\n",
    "        b_h = torch.zeros(num_hiddens, device=device)\n",
    "        W_hq = normal((num_hiddens, num_outputs)); \n",
    "        b_q = torch.zeros(num_outputs, device=device)\n",
    "        params = [W_xh, W_hh, b_h, W_hq, b_q]\n",
    "\n",
    "        for param in params:\n",
    "            param.requires_grad_(True)\n",
    "        return params\n",
    "    \n",
    "    def init_state(self, batch_size):\n",
    "        \"\"\"初始化隐藏状态\"\"\"\n",
    "        return (torch.zeros((batch_size, self.num_hiddens), device=device), )\n",
    "    \n",
    "    def _forward(self, inputs, state):    \n",
    "        W_xh, W_hh, b_h, W_hq, b_q = self.params\n",
    "        H, = state\n",
    "        outputs = []\n",
    "        for X in inputs:\n",
    "            H = torch.tanh(X @ W_xh + H @ W_hh + b_h)\n",
    "            Y = H @ W_hq + b_q\n",
    "            outputs.append(Y)\n",
    "        return torch.cat(outputs, dim=0), (H, )\n",
    "    \n",
    "    def __call__(self, X, state):\n",
    "        inputs = torch.nn.functional.one_hot(X.T, self.vocab_size).type(torch.float32)\n",
    "        return self._forward(inputs, state)\n",
    "    \n",
    "    def grad_clipping(self, theta):\n",
    "        norm = torch.sqrt(sum([torch.sum(p) for p in self.params]))\n",
    "        if norm > theta:\n",
    "            for p in self.params:\n",
    "                p.grad[:] *= theta / norm"
   ]
  },
  {
   "cell_type": "code",
   "execution_count": 68,
   "id": "277564b9",
   "metadata": {},
   "outputs": [],
   "source": [
    "def seq_data_iter_random(corpus, batch_size, num_steps):  #@save\n",
    "    \"\"\"使用随机抽样生成一个小批量子序列\"\"\"\n",
    "    # 从随机偏移量开始对序列进行分区，随机范围包括num_steps-1\n",
    "    corpus = corpus[random.randint(0, num_steps - 1):]\n",
    "    # 减去1，是因为我们需要考虑标签\n",
    "    num_subseqs = (len(corpus) - 1) // num_steps\n",
    "    # 长度为num_steps的子序列的起始索引\n",
    "    initial_indices = list(range(0, num_subseqs * num_steps, num_steps))\n",
    "    # 在随机抽样的迭代过程中，\n",
    "    # 来自两个相邻的、随机的、小批量中的子序列不一定在原始序列上相邻\n",
    "    random.shuffle(initial_indices)\n",
    "\n",
    "    def data(pos):\n",
    "        # 返回从pos位置开始的长度为num_steps的序列\n",
    "        return corpus[pos: pos + num_steps]\n",
    "\n",
    "    num_batches = num_subseqs // batch_size\n",
    "    for i in range(0, batch_size * num_batches, batch_size):\n",
    "        # 在这里，initial_indices包含子序列的随机起始索引\n",
    "        initial_indices_per_batch = initial_indices[i: i + batch_size]\n",
    "        X = [data(j) for j in initial_indices_per_batch]\n",
    "        Y = [data(j + 1) for j in initial_indices_per_batch]\n",
    "        yield torch.tensor(X), torch.tensor(Y)\n",
    "        \n",
    "def seq_data_iter_sequential(corpus, batch_size, num_steps):  #@save\n",
    "    \"\"\"使用顺序分区生成一个小批量子序列\"\"\"\n",
    "    # 从随机偏移量开始划分序列\n",
    "    offset = random.randint(0, num_steps)\n",
    "    num_tokens = ((len(corpus) - offset - 1) // batch_size) * batch_size\n",
    "    Xs = torch.tensor(corpus[offset: offset + num_tokens])\n",
    "    Ys = torch.tensor(corpus[offset + 1: offset + 1 + num_tokens])\n",
    "    Xs, Ys = Xs.reshape(batch_size, -1), Ys.reshape(batch_size, -1)\n",
    "    num_batches = Xs.shape[1] // num_steps\n",
    "    for i in range(0, num_steps * num_batches, num_steps):\n",
    "        X = Xs[:, i: i + num_steps]\n",
    "        Y = Ys[:, i: i + num_steps]\n",
    "        yield X, Y"
   ]
  },
  {
   "cell_type": "code",
   "execution_count": 69,
   "id": "4d8e9d34",
   "metadata": {},
   "outputs": [],
   "source": [
    "def tokenize(lines, token='word'): \n",
    "    \"\"\"将文本行拆分为单词或字符词元\"\"\"\n",
    "    if token == 'word':\n",
    "        return [line.split() for line in lines]\n",
    "    elif token == 'char':\n",
    "        return [list(line) for line in lines]\n",
    "    else:\n",
    "        print('错误：未知词元类型：' + token)\n",
    "\n",
    "def load_corpus_vocab(max_tokens=-1): \n",
    "    \"\"\"词元索引列表和词表\"\"\"\n",
    "    lines = texts\n",
    "    tokens = d2l.tokenize(lines)\n",
    "    vocab = d2l.Vocab(tokens)\n",
    "    corpus = [vocab[token] for line in tokens for token in line]\n",
    "    if max_tokens:\n",
    "        corpus = corpus[:max_tokens]\n",
    "    return corpus, vocab\n",
    "\n",
    "class SeqDataLoader: \n",
    "    \"\"\"加载序列数据的迭代器\"\"\"\n",
    "    def __init__(self, batch_size, num_steps, use_random_iter, max_tokens):\n",
    "        if use_random_iter:\n",
    "            self.data_iter_fn = d2l.seq_data_iter_random\n",
    "        else:\n",
    "            self.data_iter_fn = d2l.seq_data_iter_sequential\n",
    "        self.corpus, self.vocab = load_corpus_vocab(max_tokens)\n",
    "        self.batch_size, self.num_steps = batch_size, num_steps\n",
    "\n",
    "    def __iter__(self):\n",
    "        return self.data_iter_fn(self.corpus, self.batch_size, self.num_steps)\n",
    "    \n",
    "def load_data(batch_size, num_steps,  #@save\n",
    "                           use_random_iter=False, max_tokens=10000):\n",
    "    \"\"\"返回迭代器和词表\"\"\"\n",
    "    data_iter = SeqDataLoader(\n",
    "        batch_size, num_steps, use_random_iter, max_tokens)\n",
    "    return data_iter, data_iter.vocab"
   ]
  },
  {
   "cell_type": "code",
   "execution_count": 70,
   "id": "0a0425e9",
   "metadata": {},
   "outputs": [],
   "source": [
    "batch_size, num_steps, device = 32, 5, 'cpu'\n",
    "texts = ['I am a cat'] * 1000\n",
    "train_iter, vocab = load_data(batch_size, num_steps, max_tokens=10000)"
   ]
  },
  {
   "cell_type": "code",
   "execution_count": 71,
   "id": "8737de7d",
   "metadata": {},
   "outputs": [
    {
     "name": "stdout",
     "output_type": "stream",
     "text": [
      "epoch 1 困惑度 1.748636\n",
      "epoch 2 困惑度 1.007764\n",
      "epoch 3 困惑度 1.005285\n",
      "epoch 4 困惑度 1.002974\n",
      "epoch 5 困惑度 1.003444\n",
      "epoch 6 困惑度 1.002012\n",
      "epoch 7 困惑度 1.001384\n",
      "epoch 8 困惑度 1.001039\n",
      "epoch 9 困惑度 1.000825\n",
      "epoch 10 困惑度 1.006340\n"
     ]
    }
   ],
   "source": [
    "num_epochs, lr = 10, 1\n",
    "net = RNN(len(vocab), 256)\n",
    "updater = torch.optim.SGD(net.params, lr)\n",
    "loss = torch.nn.CrossEntropyLoss()\n",
    "for epoch in range(num_epochs):\n",
    "    state = None\n",
    "    metric = [0, 0]\n",
    "    for X, Y in train_iter:\n",
    "        if state is None:\n",
    "            state = net.init_state(batch_size=X.shape[0])\n",
    "        else:\n",
    "            for s in state: s.detach_()\n",
    "        y_hat, state = net(X, state)\n",
    "        y = Y.T.reshape(-1)\n",
    "        l = loss(y_hat, y.long()).mean()\n",
    "        updater.zero_grad()\n",
    "        l.backward()\n",
    "        net.grad_clipping(1)\n",
    "        updater.step()\n",
    "        metric[0] += l * y.numel(); metric[1] += y.numel()\n",
    "    print('epoch %d 困惑度 %f' % (epoch + 1, torch.exp(metric[0] / metric[1])))"
   ]
  },
  {
   "cell_type": "code",
   "execution_count": 72,
   "id": "54ae8bbe",
   "metadata": {},
   "outputs": [],
   "source": [
    "def predict(prefix, num_preds, net, vocab, device):\n",
    "    state = net.init_state(batch_size=1)\n",
    "    outputs = [vocab[prefix[0]]]\n",
    "    get_input = lambda: torch.tensor([outputs[-1]], device=device).reshape(1, 1)\n",
    "    for y in prefix[1:]:\n",
    "        _, state = net(get_input(), state)\n",
    "        outputs.append(vocab[y])\n",
    "    for _ in range(num_preds):\n",
    "        y, state = net(get_input(), state)\n",
    "        outputs.append(int(y.argmax(dim=1).reshape(1, 1)))\n",
    "    return ' '.join([vocab.idx_to_token[i] for i in outputs])"
   ]
  },
  {
   "cell_type": "code",
   "execution_count": 73,
   "id": "c1f7c891",
   "metadata": {},
   "outputs": [
    {
     "data": {
      "text/plain": [
       "'I am a cat'"
      ]
     },
     "execution_count": 73,
     "metadata": {},
     "output_type": "execute_result"
    }
   ],
   "source": [
    "predict('I am a'.split(' '), 1, net, vocab, device)"
   ]
  },
  {
   "cell_type": "code",
   "execution_count": null,
   "id": "23e066cd",
   "metadata": {},
   "outputs": [],
   "source": []
  },
  {
   "cell_type": "code",
   "execution_count": null,
   "id": "83422a59",
   "metadata": {},
   "outputs": [],
   "source": []
  }
 ],
 "metadata": {
  "kernelspec": {
   "display_name": "dl",
   "language": "python",
   "name": "dl"
  },
  "language_info": {
   "codemirror_mode": {
    "name": "ipython",
    "version": 3
   },
   "file_extension": ".py",
   "mimetype": "text/x-python",
   "name": "python",
   "nbconvert_exporter": "python",
   "pygments_lexer": "ipython3",
   "version": "3.8.16"
  }
 },
 "nbformat": 4,
 "nbformat_minor": 5
}
