{
 "cells": [
  {
   "cell_type": "code",
   "execution_count": 3,
   "id": "2385c719",
   "metadata": {},
   "outputs": [],
   "source": [
    "import torch\n",
    "from d2l import torch as d2l"
   ]
  },
  {
   "cell_type": "code",
   "execution_count": null,
   "id": "bfc739af",
   "metadata": {},
   "outputs": [],
   "source": [
    "class RNN:\n",
    "    def __init__(self, vocab_size, num_hiddens):\n",
    "        self.vocab_size, self.num_hiddens = vocab_size, num_hiddens\n",
    "        self.params = self.init_params()\n",
    "        \n",
    "    def init_params(self):\n",
    "        num_inputs = num_outputs = self.vocab_size; num_hiddens = self.num_hiddens\n",
    "        def normal(shape):\n",
    "            return torch.randn(size=shape, device=device) * 0.01\n",
    "        def three():\n",
    "            return (normal((num_inputs, num_hiddens)), normal((num_hiddens, num_hiddens)), torch.zeros(num_hiddens, device=device))\n",
    "        W_xi, W_hi, b_i = three(); W_xf, W_hf, b_f = three(); W_xo, W_ho, b_o = three(); W_xc, W_hc, b_c = three();\n",
    "        W_hq, b_q = normal((num_hiddens, num_outputs)), torch.zeros(num_outputs, device=device)\n",
    "        params = [W_xi, W_hi, b_i, W_xf, W_hf, b_f, W_xo, W_ho, b_o, W_xc, W_hc, b_c, W_hq, b_q]\n",
    "        for param in params:\n",
    "            param.requires_grad_(True)\n",
    "        return params\n",
    "    \n",
    "    def init_state(self, batch_size):\n",
    "        return (torch.zeros((batch_size, self.num_hiddens), device=device), torch.zeros((batch_size, self.num_hiddens), device=device))\n",
    "    \n",
    "    def forward(self, inputs, state):\n",
    "        C, H = state; outputs = []\n",
    "        W_xi, W_hi, b_i, W_xf, W_hf, b_f, W_xo, W_ho, b_o, W_xc, W_hc, b_c, W_hq, b_q = self.params\n",
    "        for X in inputs:\n",
    "            I = torch.sigmoid(X @ W_xi + H @ W_hi + b_i)\n",
    "            F = torch.sigmoid(X @ W_xf + H @ W_hf + b_f)\n",
    "            O = torch.sigmoid(X @ W_xo + H @ W_ho + b_o)\n",
    "            C_hat = torch.tanh(X @ W_xc + H @ W_hc + b_c)\n",
    "            C = F * C + I * C_hat\n",
    "            H = O * torch.tanh(C)\n",
    "            Y = H @ W_hq + b_q\n",
    "            outputs.append(Y)\n",
    "        return torch.cat(outputs, dim=0), (C, H)\n",
    "    \n",
    "    def __call__(self, X, state):\n",
    "        inputs = F.one_hot(X.T, self.vocab_size).type(torch.float32)\n",
    "        return self.forward(inputs, state)\n",
    "    \n",
    "    def grad_clipping(self, theta):\n",
    "        norm = torch.sqrt(sum([torch.sum(p) for p in self.params]))\n",
    "        if norm > theta:\n",
    "            for p in self.params:\n",
    "                p.grad[:] *= theta / norm"
   ]
  },
  {
   "cell_type": "code",
   "execution_count": 4,
   "id": "7ac4a0f9",
   "metadata": {},
   "outputs": [],
   "source": [
    "def get_params(vocab_size, num_hiddens, device):\n",
    "    \"\"\"获取参数\"\"\"\n",
    "    num_inputs = num_outputs = vocab_size\n",
    "    def normal(shape):\n",
    "        return randn(size=shape, device=device) * 0.01\n",
    "    W_xh = normal((num_inputs, num_hiddens))\n",
    "    W_hh = normal((num_hiddens, num_hiddens))\n",
    "    b_h = zeros(num_hiddens, device=device, requires_grad=True)\n",
    "    W_hq = normal((num_hiddens, num_outputs))\n",
    "    b_q = zeros(num_outputs, device=device, requires_grad=True)\n",
    "    params = [W_xh, W_hh, b_h, W_hq, b_q]\n",
    "    \n",
    "    for param in params:\n",
    "        param.requires_grad_(True)\n",
    "    return params"
   ]
  },
  {
   "cell_type": "code",
   "execution_count": 5,
   "id": "5b2a5d03",
   "metadata": {},
   "outputs": [],
   "source": [
    "def init_rnn_state(batch_size, num_hiddens, device):\n",
    "    \"\"\"初始化隐藏状态\"\"\"\n",
    "    return (zeros((batch_size, num_hiddens), device=device), )"
   ]
  },
  {
   "cell_type": "code",
   "execution_count": 6,
   "id": "98d56314",
   "metadata": {},
   "outputs": [],
   "source": [
    "def rnn(inputs, state, params):\n",
    "    \"\"\"\n",
    "        forward 函数\n",
    "        inputs: step * batch_size * vocab_size\n",
    "    \"\"\"\n",
    "    W_xh, W_hh, b_h, W_hq, b_q = params\n",
    "    H, = state\n",
    "    outputs = []\n",
    "    for X in inputs:\n",
    "        # X: batch_size * vocab_size\n",
    "        # H: batch_size * num_hiddens\n",
    "        # W_xh: vocab_size * num_hiddens\n",
    "        # W_hh: num_hiddens * num_hiddens\n",
    "        H = tanh(mm(X, W_xh) + mm(H, W_hh) + b_h)\n",
    "        # W_hq: num_hiddens * vocab_size\n",
    "        # Y: batch_size * vocab_size\n",
    "        Y = mm(H, W_hq) + b_q\n",
    "        outputs.append(Y)\n",
    "    # dim=0: 按行拼接\n",
    "    # torch.cat(outputs, dim=0): (num_steps * batch_size) * vocab_size\n",
    "    return torch.cat(outputs, dim=0), (H, )"
   ]
  },
  {
   "cell_type": "code",
   "execution_count": 7,
   "id": "e8a5f2d1",
   "metadata": {},
   "outputs": [],
   "source": [
    "class RNN:\n",
    "    def __init__(self, vocab_size, num_hiddens, device, get_params, init_state, forward_fn):\n",
    "        self.vocab_size, self.num_hiddens = vocab_size, num_hiddens\n",
    "        self.params = get_params(vocab_size, num_hiddens, device)\n",
    "        self.init_state, self.forward_fn = init_state, forward_fn\n",
    "    \n",
    "    def __call__(self, X, state):\n",
    "        \"\"\"像函数一样被调用 RNN(X)\"\"\"\n",
    "        # X: batch_size * num_steps [string]\n",
    "        inputs = F.one_hot(X.T, self.vocab_size).type(torch.float32)\n",
    "        # inputs: num_steps * batch_size * vocab_size\n",
    "        return self.forward_fn(inputs, state, self.params)\n",
    "    \n",
    "    def begin_state(self, batch_size, device):\n",
    "        return self.init_state(batch_size, self.num_hiddens, device)"
   ]
  },
  {
   "cell_type": "code",
   "execution_count": 8,
   "id": "f6e7f4ef",
   "metadata": {},
   "outputs": [],
   "source": [
    "def grad_clipping(net, theta):\n",
    "    \"\"\"梯度剪裁\"\"\"\n",
    "    params = net.params\n",
    "    norm = torch.sqrt(sum(torch.sum(p.grad**2) for p in params))\n",
    "    if norm > theta:\n",
    "        for param in params:\n",
    "            param.grad[:] *= theta / norm"
   ]
  },
  {
   "cell_type": "code",
   "execution_count": 9,
   "id": "1fc277ca",
   "metadata": {},
   "outputs": [],
   "source": [
    "def train_epochs(net, train_iter, loss, updater, device, use_random_iter):\n",
    "    state = None\n",
    "    metric = d2l.Accumulator(2)\n",
    "    for X, Y in train_iter:\n",
    "        if state is None or use_random_iter:\n",
    "            state = net.begin_state(batch_size=X.shape[0], device=device)\n",
    "        else:\n",
    "            for s in state: s.detach_()\n",
    "        y_hat, state = net(X, state)\n",
    "        y = Y.T.reshape(-1)\n",
    "        l = loss(y_hat, y.long()).mean()\n",
    "        if isinstance(updater, torch.optim.Optimizer):\n",
    "            updater.zero_grad()\n",
    "            l.backward()\n",
    "            grad_clipping(net, 1)\n",
    "            updater.step()\n",
    "        else:\n",
    "            l.backward()\n",
    "            grad_clipping(net, 1)\n",
    "            updater(batch_size=1)\n",
    "        metric.add(l * y.numel(), y.numel())\n",
    "    return math.exp(metric[0] / metric[1])"
   ]
  },
  {
   "cell_type": "code",
   "execution_count": 10,
   "id": "56e0ff0b",
   "metadata": {},
   "outputs": [],
   "source": [
    "def train(net, train_iter, vocab, lr, num_epochs, device, use_random_iter=False):\n",
    "    loss = nn.CrossEntropyLoss()\n",
    "    if isinstance(net, nn.Module):\n",
    "        updater = torch.optim.SGD(net.parameters(), lr)\n",
    "    else:\n",
    "        updater = lambda batch_size: d2l.sgd(net.params, lr, batch_size)\n",
    "    for epoch in tqdm(range(num_epochs), ncols=100):\n",
    "        ppl = train_epochs(net, train_iter, loss, updater, device, use_random_iter)\n",
    "    print('困惑度: %f' % ppl)"
   ]
  },
  {
   "cell_type": "code",
   "execution_count": 11,
   "id": "277564b9",
   "metadata": {},
   "outputs": [],
   "source": [
    "def seq_data_iter_random(corpus, batch_size, num_steps):  #@save\n",
    "    \"\"\"使用随机抽样生成一个小批量子序列\"\"\"\n",
    "    # 从随机偏移量开始对序列进行分区，随机范围包括num_steps-1\n",
    "    corpus = corpus[random.randint(0, num_steps - 1):]\n",
    "    # 减去1，是因为我们需要考虑标签\n",
    "    num_subseqs = (len(corpus) - 1) // num_steps\n",
    "    # 长度为num_steps的子序列的起始索引\n",
    "    initial_indices = list(range(0, num_subseqs * num_steps, num_steps))\n",
    "    # 在随机抽样的迭代过程中，\n",
    "    # 来自两个相邻的、随机的、小批量中的子序列不一定在原始序列上相邻\n",
    "    random.shuffle(initial_indices)\n",
    "\n",
    "    def data(pos):\n",
    "        # 返回从pos位置开始的长度为num_steps的序列\n",
    "        return corpus[pos: pos + num_steps]\n",
    "\n",
    "    num_batches = num_subseqs // batch_size\n",
    "    for i in range(0, batch_size * num_batches, batch_size):\n",
    "        # 在这里，initial_indices包含子序列的随机起始索引\n",
    "        initial_indices_per_batch = initial_indices[i: i + batch_size]\n",
    "        X = [data(j) for j in initial_indices_per_batch]\n",
    "        Y = [data(j + 1) for j in initial_indices_per_batch]\n",
    "        yield torch.tensor(X), torch.tensor(Y)\n",
    "        \n",
    "def seq_data_iter_sequential(corpus, batch_size, num_steps):  #@save\n",
    "    \"\"\"使用顺序分区生成一个小批量子序列\"\"\"\n",
    "    # 从随机偏移量开始划分序列\n",
    "    offset = random.randint(0, num_steps)\n",
    "    num_tokens = ((len(corpus) - offset - 1) // batch_size) * batch_size\n",
    "    Xs = torch.tensor(corpus[offset: offset + num_tokens])\n",
    "    Ys = torch.tensor(corpus[offset + 1: offset + 1 + num_tokens])\n",
    "    Xs, Ys = Xs.reshape(batch_size, -1), Ys.reshape(batch_size, -1)\n",
    "    num_batches = Xs.shape[1] // num_steps\n",
    "    for i in range(0, num_steps * num_batches, num_steps):\n",
    "        X = Xs[:, i: i + num_steps]\n",
    "        Y = Ys[:, i: i + num_steps]\n",
    "        yield X, Y"
   ]
  },
  {
   "cell_type": "code",
   "execution_count": 12,
   "id": "4d8e9d34",
   "metadata": {},
   "outputs": [],
   "source": [
    "def tokenize(lines, token='word'): \n",
    "    \"\"\"将文本行拆分为单词或字符词元\"\"\"\n",
    "    if token == 'word':\n",
    "        return [line.split() for line in lines]\n",
    "    elif token == 'char':\n",
    "        return [list(line) for line in lines]\n",
    "    else:\n",
    "        print('错误：未知词元类型：' + token)\n",
    "\n",
    "def load_corpus_vocab(max_tokens=-1): \n",
    "    \"\"\"词元索引列表和词表\"\"\"\n",
    "    lines = texts\n",
    "    tokens = d2l.tokenize(lines)\n",
    "    vocab = d2l.Vocab(tokens)\n",
    "    corpus = [vocab[token] for line in tokens for token in line]\n",
    "    if max_tokens:\n",
    "        corpus = corpus[:max_tokens]\n",
    "    return corpus, vocab\n",
    "\n",
    "class SeqDataLoader: \n",
    "    \"\"\"加载序列数据的迭代器\"\"\"\n",
    "    def __init__(self, batch_size, num_steps, use_random_iter, max_tokens):\n",
    "        if use_random_iter:\n",
    "            self.data_iter_fn = d2l.seq_data_iter_random\n",
    "        else:\n",
    "            self.data_iter_fn = d2l.seq_data_iter_sequential\n",
    "        self.corpus, self.vocab = load_corpus_vocab(max_tokens)\n",
    "        self.batch_size, self.num_steps = batch_size, num_steps\n",
    "\n",
    "    def __iter__(self):\n",
    "        return self.data_iter_fn(self.corpus, self.batch_size, self.num_steps)\n",
    "    \n",
    "def load_data(batch_size, num_steps,  #@save\n",
    "                           use_random_iter=False, max_tokens=10000):\n",
    "    \"\"\"返回迭代器和词表\"\"\"\n",
    "    data_iter = SeqDataLoader(\n",
    "        batch_size, num_steps, use_random_iter, max_tokens)\n",
    "    return data_iter, data_iter.vocab"
   ]
  },
  {
   "cell_type": "code",
   "execution_count": 13,
   "id": "0a0425e9",
   "metadata": {},
   "outputs": [],
   "source": [
    "batch_size, num_steps = 32, 5\n",
    "texts = ['I am a cat'] * 1000\n",
    "train_iter, vocab = load_data(batch_size, num_steps, max_tokens=10000)"
   ]
  },
  {
   "cell_type": "code",
   "execution_count": 14,
   "id": "8737de7d",
   "metadata": {},
   "outputs": [
    {
     "ename": "NameError",
     "evalue": "name 'num_hiddens' is not defined",
     "output_type": "error",
     "traceback": [
      "\u001b[1;31m---------------------------------------------------------------------------\u001b[0m",
      "\u001b[1;31mNameError\u001b[0m                                 Traceback (most recent call last)",
      "Cell \u001b[1;32mIn[14], line 2\u001b[0m\n\u001b[0;32m      1\u001b[0m num_epochs, lr \u001b[38;5;241m=\u001b[39m \u001b[38;5;241m10\u001b[39m, \u001b[38;5;241m1\u001b[39m\n\u001b[1;32m----> 2\u001b[0m net \u001b[38;5;241m=\u001b[39m RNN(\u001b[38;5;28mlen\u001b[39m(vocab), \u001b[43mnum_hiddens\u001b[49m, device, get_params, init_rnn_state, rnn)\n\u001b[0;32m      3\u001b[0m train(net, train_iter, vocab, lr, num_epochs, device)\n",
      "\u001b[1;31mNameError\u001b[0m: name 'num_hiddens' is not defined"
     ]
    }
   ],
   "source": [
    "num_epochs, lr = 10, 1\n",
    "net = RNN(len(vocab), num_hiddens, device, get_params, init_rnn_state, rnn)\n",
    "train(net, train_iter, vocab, lr, num_epochs, device)"
   ]
  },
  {
   "cell_type": "code",
   "execution_count": 201,
   "id": "54ae8bbe",
   "metadata": {},
   "outputs": [],
   "source": [
    "def predict(prefix, num_preds, net, vocab, device):\n",
    "    state = net.begin_state(batch_size=1, device=device)\n",
    "    outputs = [vocab[prefix[0]]]\n",
    "    get_input = lambda: tensor([outputs[-1]], device=device).reshape(1, 1)\n",
    "    for y in prefix[1:]:\n",
    "        _, state = net(get_input(), state)\n",
    "        outputs.append(vocab[y])\n",
    "    for _ in range(num_preds):\n",
    "        y, state = net(get_input(), state)\n",
    "        outputs.append(int(y.argmax(dim=1).reshape(1, 1)))\n",
    "    return ' '.join([vocab.idx_to_token[i] for i in outputs])"
   ]
  },
  {
   "cell_type": "code",
   "execution_count": 202,
   "id": "c1f7c891",
   "metadata": {},
   "outputs": [
    {
     "data": {
      "text/plain": [
       "'I am a cat'"
      ]
     },
     "execution_count": 202,
     "metadata": {},
     "output_type": "execute_result"
    }
   ],
   "source": [
    "predict('I am a'.split(' '), 1, net, vocab, device)"
   ]
  },
  {
   "cell_type": "code",
   "execution_count": null,
   "id": "23e066cd",
   "metadata": {},
   "outputs": [],
   "source": []
  },
  {
   "cell_type": "code",
   "execution_count": null,
   "id": "83422a59",
   "metadata": {},
   "outputs": [],
   "source": []
  }
 ],
 "metadata": {
  "kernelspec": {
   "display_name": "dl",
   "language": "python",
   "name": "dl"
  },
  "language_info": {
   "codemirror_mode": {
    "name": "ipython",
    "version": 3
   },
   "file_extension": ".py",
   "mimetype": "text/x-python",
   "name": "python",
   "nbconvert_exporter": "python",
   "pygments_lexer": "ipython3",
   "version": "3.8.16"
  }
 },
 "nbformat": 4,
 "nbformat_minor": 5
}
