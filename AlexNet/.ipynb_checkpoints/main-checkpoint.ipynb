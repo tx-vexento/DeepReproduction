{
 "cells": [
  {
   "cell_type": "code",
   "execution_count": 1,
   "id": "8235d25b",
   "metadata": {},
   "outputs": [],
   "source": [
    "import numpy as np\n",
    "import torch\n",
    "from d2l import torch as d2l\n",
    "from tqdm import tqdm"
   ]
  },
  {
   "cell_type": "code",
   "execution_count": 2,
   "id": "b3a62083",
   "metadata": {},
   "outputs": [],
   "source": [
    "\"\"\" \n",
    "卷积朴素实现\n",
    "def conv2d(input, weight, bias=None, stride=1, padding=0):\n",
    "    batch_size, in_channels, in_height, in_width = input.size()\n",
    "    out_channels, _, kernel_height, kernel_width = weight.size()\n",
    "    out_height = int((in_height + 2 * padding - kernel_height) / stride) + 1\n",
    "    out_width = int((in_width + 2 * padding - kernel_width) / stride) + 1\n",
    "    padded_input = torch.nn.functional.pad(input, (padding, padding, padding, padding))\n",
    "    output = torch.zeros(batch_size, out_channels, out_height, out_width)\n",
    "    for b in range(batch_size):\n",
    "        for c_out in range(out_channels):\n",
    "            for h_out in range(out_height):\n",
    "                for w_out in range(out_width):\n",
    "                    h_start = h_out * stride\n",
    "                    w_start = w_out * stride\n",
    "                    h_end = h_start + kernel_height\n",
    "                    w_end = w_start + kernel_width\n",
    "                    input_patch = padded_input[b, :, h_start:h_end, w_start:w_end]\n",
    "                    output[b, c_out, h_out, w_out] = torch.sum(input_patch * weight[c_out]) + (bias[c_out] if bias is not None else 0)\n",
    "    return output\n",
    "\"\"\"\n",
    "\n",
    "def conv2d(input, weight, bias=None, stride=1, padding=0):\n",
    "    padded_input = torch.nn.functional.pad(input, (padding, padding, padding, padding))\n",
    "    output = torch.nn.functional.conv2d(padded_input, weight, bias=bias, stride=stride)\n",
    "    return output"
   ]
  },
  {
   "cell_type": "code",
   "execution_count": 4,
   "id": "8931639c",
   "metadata": {},
   "outputs": [],
   "source": [
    "\"\"\"\n",
    "ave 池化朴素实现\n",
    "def avg_pool2d(input, kernel_size, stride=None, padding=0):\n",
    "    batch_size, channels, height, width = input.size()\n",
    "    output_height = int((height + 2 * padding - kernel_size) / stride) + 1\n",
    "    output_width = int((width + 2 * padding - kernel_size) / stride) + 1\n",
    "    output = torch.zeros(batch_size, channels, output_height, output_width)\n",
    "    for b in range(batch_size):\n",
    "        for c in range(channels):\n",
    "            for i in range(output_height):\n",
    "                for j in range(output_width):\n",
    "                    avg_value = torch.mean(\n",
    "                        input[b, c, i * stride:i * stride + kernel_size, j * stride:j * stride + kernel_size]\n",
    "                    )\n",
    "                    output[b, c, i, j] = avg_value\n",
    "    return output\n",
    "\"\"\"\n",
    "\n",
    "def max_pool2d(input, kernel_size, stride=None, padding=0):\n",
    "    output = torch.nn.functional.max_pool2d(input, kernel_size, stride=stride, padding=padding)\n",
    "    return output"
   ]
  },
  {
   "cell_type": "code",
   "execution_count": 9,
   "id": "791bf111",
   "metadata": {},
   "outputs": [],
   "source": [
    "def dropout(X, p):\n",
    "    \"\"\"dropout\"\"\"\n",
    "    return X * torch.empty_like(X.bernoulli_(1 - p) / (1 - p))"
   ]
  },
  {
   "cell_type": "code",
   "execution_count": 27,
   "id": "33e810c9",
   "metadata": {},
   "outputs": [],
   "source": [
    "def relu(x):\n",
    "    return torch.max(torch.zeros_like(x), x)"
   ]
  },
  {
   "cell_type": "code",
   "execution_count": 37,
   "id": "aba804af",
   "metadata": {},
   "outputs": [],
   "source": [
    "def sigmoid(x):\n",
    "    return 1 / (1 + torch.exp(-x))"
   ]
  },
  {
   "cell_type": "code",
   "execution_count": 48,
   "id": "db827d56",
   "metadata": {},
   "outputs": [],
   "source": [
    "class AlexNet:\n",
    "    def __init__(self):\n",
    "        self.params = self._init_params()\n",
    "        \n",
    "    def _init_params(self):\n",
    "        \"\"\"初始化参数\"\"\"\n",
    "        def normal(shape):\n",
    "            return torch.randn(size=shape, device=device) * 0.01\n",
    "        \"\"\"输出通道 * 输入通道 * 卷积核边长 * 卷积核边长\"\"\"\n",
    "        W_conv1 = normal((96, 1, 11, 11)); b_conv1 = torch.zeros(96, device=device);\n",
    "        W_conv2 = normal((256, 96, 5, 5)); b_conv2 = torch.zeros(256, device=device);\n",
    "        W_conv3 = normal((384, 256, 3, 3)); b_conv3 = torch.zeros(384, device=device);\n",
    "        W_conv4 = normal((384, 384, 3, 3)); b_conv4 = torch.zeros(384, device=device);\n",
    "        W_conv5 = normal((256, 384, 3, 3)); b_conv5 = torch.zeros(256, device=device);\n",
    "        \n",
    "        W_h1h2 = normal((6400, 4096)); b_h1h2 = torch.zeros(4096, device=device);\n",
    "        W_h2h3 = normal((4096, 4096)); b_h2h3 = torch.zeros(4096, device=device);\n",
    "        W_h3y = normal((4096, 10)); b_h3y = torch.zeros(10, device=device);\n",
    "        \n",
    "        params = [W_conv1, b_conv1, W_conv2, b_conv2, W_conv3, b_conv3, W_conv4, b_conv4, W_conv5, b_conv5, \n",
    "                  W_h1h2, b_h1h2, W_h2h3, b_h2h3, W_h3y, b_h3y]\n",
    "        for param in params:\n",
    "            param.requires_grad_(True)\n",
    "        return params\n",
    "    \n",
    "    def _forward(self, X):\n",
    "        \"\"\"推理函数\"\"\"\n",
    "        W_conv1, b_conv1, W_conv2, b_conv2, W_conv3, b_conv3, W_conv4, b_conv4, W_conv5, b_conv5, \\\n",
    "            W_h1h2, b_h1h2, W_h2h3, b_h2h3, W_h3y, b_h3y = self.params\n",
    "        C1 = max_pool2d(relu(conv2d(X, W_conv1, b_conv1, stride=4, padding=1)), 3, stride=2, padding=0)\n",
    "        C2 = max_pool2d(relu(conv2d(C1, W_conv2, b_conv2, stride=1, padding=2)), 3, stride=2, padding=0)\n",
    "        C3 = relu(conv2d(C2, W_conv3, b_conv3, stride=1, padding=1))\n",
    "        C4 = relu(conv2d(C3, W_conv4, b_conv4, stride=1, padding=1))\n",
    "        C5 = max_pool2d(relu(conv2d(C4, W_conv5, b_conv5, stride=1, padding=1)), 3, stride=2, padding=0)\n",
    "        H1 = C5.reshape(C5.size(0), -1)\n",
    "        H2 = dropout(relu(H1 @ W_h1h2 + b_h1h2), 0.5)\n",
    "        H3 = dropout(relu(H2 @ W_h2h3 + b_h2h3), 0.5)\n",
    "        Y = sigmoid(H3 @ W_h3y + b_h3y)\n",
    "        return Y\n",
    "    \n",
    "    def update(self, X, y, lr):\n",
    "        \"\"\"更新函数\"\"\"\n",
    "        y_hat = self._forward(X)\n",
    "        l = self._loss(y_hat, y)\n",
    "        l.mean().backward()\n",
    "        \"\"\"sgd\"\"\"\n",
    "        with torch.no_grad():\n",
    "            for param in self.params:\n",
    "                param -= lr * param.grad / X.shape[0]\n",
    "                param.grad.zero_()\n",
    "        return l\n",
    "                \n",
    "    def _loss(self, y_hat, y):\n",
    "        \"\"\"交叉熵损失\"\"\"\n",
    "        return - torch.log(y_hat[range(len(y_hat)), y])\n",
    "                \n",
    "    def __call__(self, X):\n",
    "        return self._forward(X)\n",
    "        def grad_clipping(self, theta):\n",
    "        norm = torch.sqrt(sum([torch.sum(p) for p in self.params]))\n",
    "        if norm > theta:\n",
    "            for p in self.params:\n",
    "                p.grad[:] *= theta / norm"
   ]
  },
  {
   "cell_type": "code",
   "execution_count": 50,
   "id": "f23dec55",
   "metadata": {},
   "outputs": [],
   "source": [
    "device = 'cpu'\n",
    "X = torch.randn(4, 1, 224, 224)\n",
    "y = [1, 2, 3, 4]\n",
    "net = AlexNet()\n",
    "for i in range(10):\n",
    "#     print(i)\n",
    "    net.update(X, y, lr=1)"
   ]
  },
  {
   "cell_type": "code",
   "execution_count": 40,
   "id": "24caf56f",
   "metadata": {},
   "outputs": [],
   "source": [
    "batch_size = 16\n",
    "train_iter, test_iter = d2l.load_data_fashion_mnist(batch_size, resize=224)\n",
    "net = AlexNet()"
   ]
  },
  {
   "cell_type": "code",
   "execution_count": 90,
   "id": "233e4404",
   "metadata": {},
   "outputs": [
    {
     "name": "stderr",
     "output_type": "stream",
     "text": [
      "  3%|██▉                                                                                                               | 95/3750 [02:26<1:27:18,  1.43s/it]C:\\ProgramData\\Anaconda3\\envs\\dl\\lib\\site-packages\\torch\\autograd\\__init__.py:200: UserWarning: Error detected in LogBackward0. Traceback of forward call that caused the error:\n",
      "  File \"C:\\ProgramData\\Anaconda3\\envs\\dl\\lib\\runpy.py\", line 194, in _run_module_as_main\n",
      "    return _run_code(code, main_globals, None,\n",
      "  File \"C:\\ProgramData\\Anaconda3\\envs\\dl\\lib\\runpy.py\", line 87, in _run_code\n",
      "    exec(code, run_globals)\n",
      "  File \"C:\\ProgramData\\Anaconda3\\envs\\dl\\lib\\site-packages\\ipykernel_launcher.py\", line 17, in <module>\n",
      "    app.launch_new_instance()\n",
      "  File \"C:\\ProgramData\\Anaconda3\\envs\\dl\\lib\\site-packages\\traitlets\\config\\application.py\", line 1043, in launch_instance\n",
      "    app.start()\n",
      "  File \"C:\\ProgramData\\Anaconda3\\envs\\dl\\lib\\site-packages\\ipykernel\\kernelapp.py\", line 725, in start\n",
      "    self.io_loop.start()\n",
      "  File \"C:\\ProgramData\\Anaconda3\\envs\\dl\\lib\\site-packages\\tornado\\platform\\asyncio.py\", line 195, in start\n",
      "    self.asyncio_loop.run_forever()\n",
      "  File \"C:\\ProgramData\\Anaconda3\\envs\\dl\\lib\\asyncio\\base_events.py\", line 570, in run_forever\n",
      "    self._run_once()\n",
      "  File \"C:\\ProgramData\\Anaconda3\\envs\\dl\\lib\\asyncio\\base_events.py\", line 1859, in _run_once\n",
      "    handle._run()\n",
      "  File \"C:\\ProgramData\\Anaconda3\\envs\\dl\\lib\\asyncio\\events.py\", line 81, in _run\n",
      "    self._context.run(self._callback, *self._args)\n",
      "  File \"C:\\ProgramData\\Anaconda3\\envs\\dl\\lib\\site-packages\\ipykernel\\kernelbase.py\", line 513, in dispatch_queue\n",
      "    await self.process_one()\n",
      "  File \"C:\\ProgramData\\Anaconda3\\envs\\dl\\lib\\site-packages\\ipykernel\\kernelbase.py\", line 502, in process_one\n",
      "    await dispatch(*args)\n",
      "  File \"C:\\ProgramData\\Anaconda3\\envs\\dl\\lib\\site-packages\\ipykernel\\kernelbase.py\", line 409, in dispatch_shell\n",
      "    await result\n",
      "  File \"C:\\ProgramData\\Anaconda3\\envs\\dl\\lib\\site-packages\\ipykernel\\kernelbase.py\", line 729, in execute_request\n",
      "    reply_content = await reply_content\n",
      "  File \"C:\\ProgramData\\Anaconda3\\envs\\dl\\lib\\site-packages\\ipykernel\\ipkernel.py\", line 422, in do_execute\n",
      "    res = shell.run_cell(\n",
      "  File \"C:\\ProgramData\\Anaconda3\\envs\\dl\\lib\\site-packages\\ipykernel\\zmqshell.py\", line 540, in run_cell\n",
      "    return super().run_cell(*args, **kwargs)\n",
      "  File \"C:\\ProgramData\\Anaconda3\\envs\\dl\\lib\\site-packages\\IPython\\core\\interactiveshell.py\", line 3009, in run_cell\n",
      "    result = self._run_cell(\n",
      "  File \"C:\\ProgramData\\Anaconda3\\envs\\dl\\lib\\site-packages\\IPython\\core\\interactiveshell.py\", line 3064, in _run_cell\n",
      "    result = runner(coro)\n",
      "  File \"C:\\ProgramData\\Anaconda3\\envs\\dl\\lib\\site-packages\\IPython\\core\\async_helpers.py\", line 129, in _pseudo_sync_runner\n",
      "    coro.send(None)\n",
      "  File \"C:\\ProgramData\\Anaconda3\\envs\\dl\\lib\\site-packages\\IPython\\core\\interactiveshell.py\", line 3269, in run_cell_async\n",
      "    has_raised = await self.run_ast_nodes(code_ast.body, cell_name,\n",
      "  File \"C:\\ProgramData\\Anaconda3\\envs\\dl\\lib\\site-packages\\IPython\\core\\interactiveshell.py\", line 3448, in run_ast_nodes\n",
      "    if await self.run_code(code, result, async_=asy):\n",
      "  File \"C:\\ProgramData\\Anaconda3\\envs\\dl\\lib\\site-packages\\IPython\\core\\interactiveshell.py\", line 3508, in run_code\n",
      "    exec(code_obj, self.user_global_ns, self.user_ns)\n",
      "  File \"C:\\Users\\15629\\AppData\\Local\\Temp\\ipykernel_3788\\1417177258.py\", line 8, in <module>\n",
      "    l = net.update(X, y, lr=1)\n",
      "  File \"C:\\Users\\15629\\AppData\\Local\\Temp\\ipykernel_3788\\1900532039.py\", line 44, in update\n",
      "    l = self._loss(y_hat, y)\n",
      "  File \"C:\\Users\\15629\\AppData\\Local\\Temp\\ipykernel_3788\\1900532039.py\", line 55, in _loss\n",
      "    return - torch.log(y_hat[range(len(y_hat)), y])\n",
      " (Triggered internally at C:\\actions-runner\\_work\\pytorch\\pytorch\\builder\\windows\\pytorch\\torch\\csrc\\autograd\\python_anomaly_mode.cpp:119.)\n",
      "  Variable._execution_engine.run_backward(  # Calls into the C++ engine to run the backward pass\n",
      "  3%|██▉                                                                                                               | 95/3750 [02:27<1:34:50,  1.56s/it]\n"
     ]
    },
    {
     "ename": "RuntimeError",
     "evalue": "Function 'LogBackward0' returned nan values in its 0th output.",
     "output_type": "error",
     "traceback": [
      "\u001b[1;31m---------------------------------------------------------------------------\u001b[0m",
      "\u001b[1;31mRuntimeError\u001b[0m                              Traceback (most recent call last)",
      "Cell \u001b[1;32mIn[90], line 8\u001b[0m\n\u001b[0;32m      6\u001b[0m     \u001b[38;5;28;01mfor\u001b[39;00m X, y \u001b[38;5;129;01min\u001b[39;00m tqdm(train_iter):\n\u001b[0;32m      7\u001b[0m         i \u001b[38;5;241m+\u001b[39m\u001b[38;5;241m=\u001b[39m \u001b[38;5;241m1\u001b[39m\n\u001b[1;32m----> 8\u001b[0m         l \u001b[38;5;241m=\u001b[39m \u001b[43mnet\u001b[49m\u001b[38;5;241;43m.\u001b[39;49m\u001b[43mupdate\u001b[49m\u001b[43m(\u001b[49m\u001b[43mX\u001b[49m\u001b[43m,\u001b[49m\u001b[43m \u001b[49m\u001b[43my\u001b[49m\u001b[43m,\u001b[49m\u001b[43m \u001b[49m\u001b[43mlr\u001b[49m\u001b[38;5;241;43m=\u001b[39;49m\u001b[38;5;241;43m1\u001b[39;49m\u001b[43m)\u001b[49m\n\u001b[0;32m      9\u001b[0m         metrics[\u001b[38;5;241m0\u001b[39m] \u001b[38;5;241m+\u001b[39m\u001b[38;5;241m=\u001b[39m l\u001b[38;5;241m.\u001b[39msum(); metrics[\u001b[38;5;241m1\u001b[39m] \u001b[38;5;241m+\u001b[39m\u001b[38;5;241m=\u001b[39m y\u001b[38;5;241m.\u001b[39mnumel()\n\u001b[0;32m     10\u001b[0m \u001b[38;5;66;03m#         print('i %d loss %f' % (i, metrics[0] / metrics[1]))\u001b[39;00m\n\u001b[0;32m     11\u001b[0m \u001b[38;5;66;03m#         if i == 10:\u001b[39;00m\n\u001b[0;32m     12\u001b[0m \u001b[38;5;66;03m#             break\u001b[39;00m\n",
      "Cell \u001b[1;32mIn[48], line 45\u001b[0m, in \u001b[0;36mAlexNet.update\u001b[1;34m(self, X, y, lr)\u001b[0m\n\u001b[0;32m     43\u001b[0m y_hat \u001b[38;5;241m=\u001b[39m \u001b[38;5;28mself\u001b[39m\u001b[38;5;241m.\u001b[39m_forward(X)\n\u001b[0;32m     44\u001b[0m l \u001b[38;5;241m=\u001b[39m \u001b[38;5;28mself\u001b[39m\u001b[38;5;241m.\u001b[39m_loss(y_hat, y)\n\u001b[1;32m---> 45\u001b[0m \u001b[43ml\u001b[49m\u001b[38;5;241;43m.\u001b[39;49m\u001b[43mmean\u001b[49m\u001b[43m(\u001b[49m\u001b[43m)\u001b[49m\u001b[38;5;241;43m.\u001b[39;49m\u001b[43mbackward\u001b[49m\u001b[43m(\u001b[49m\u001b[43m)\u001b[49m\n\u001b[0;32m     46\u001b[0m \u001b[38;5;250m\u001b[39m\u001b[38;5;124;03m\"\"\"sgd\"\"\"\u001b[39;00m\n\u001b[0;32m     47\u001b[0m \u001b[38;5;28;01mwith\u001b[39;00m torch\u001b[38;5;241m.\u001b[39mno_grad():\n",
      "File \u001b[1;32mC:\\ProgramData\\Anaconda3\\envs\\dl\\lib\\site-packages\\torch\\_tensor.py:487\u001b[0m, in \u001b[0;36mTensor.backward\u001b[1;34m(self, gradient, retain_graph, create_graph, inputs)\u001b[0m\n\u001b[0;32m    477\u001b[0m \u001b[38;5;28;01mif\u001b[39;00m has_torch_function_unary(\u001b[38;5;28mself\u001b[39m):\n\u001b[0;32m    478\u001b[0m     \u001b[38;5;28;01mreturn\u001b[39;00m handle_torch_function(\n\u001b[0;32m    479\u001b[0m         Tensor\u001b[38;5;241m.\u001b[39mbackward,\n\u001b[0;32m    480\u001b[0m         (\u001b[38;5;28mself\u001b[39m,),\n\u001b[1;32m   (...)\u001b[0m\n\u001b[0;32m    485\u001b[0m         inputs\u001b[38;5;241m=\u001b[39minputs,\n\u001b[0;32m    486\u001b[0m     )\n\u001b[1;32m--> 487\u001b[0m \u001b[43mtorch\u001b[49m\u001b[38;5;241;43m.\u001b[39;49m\u001b[43mautograd\u001b[49m\u001b[38;5;241;43m.\u001b[39;49m\u001b[43mbackward\u001b[49m\u001b[43m(\u001b[49m\n\u001b[0;32m    488\u001b[0m \u001b[43m    \u001b[49m\u001b[38;5;28;43mself\u001b[39;49m\u001b[43m,\u001b[49m\u001b[43m \u001b[49m\u001b[43mgradient\u001b[49m\u001b[43m,\u001b[49m\u001b[43m \u001b[49m\u001b[43mretain_graph\u001b[49m\u001b[43m,\u001b[49m\u001b[43m \u001b[49m\u001b[43mcreate_graph\u001b[49m\u001b[43m,\u001b[49m\u001b[43m \u001b[49m\u001b[43minputs\u001b[49m\u001b[38;5;241;43m=\u001b[39;49m\u001b[43minputs\u001b[49m\n\u001b[0;32m    489\u001b[0m \u001b[43m\u001b[49m\u001b[43m)\u001b[49m\n",
      "File \u001b[1;32mC:\\ProgramData\\Anaconda3\\envs\\dl\\lib\\site-packages\\torch\\autograd\\__init__.py:200\u001b[0m, in \u001b[0;36mbackward\u001b[1;34m(tensors, grad_tensors, retain_graph, create_graph, grad_variables, inputs)\u001b[0m\n\u001b[0;32m    195\u001b[0m     retain_graph \u001b[38;5;241m=\u001b[39m create_graph\n\u001b[0;32m    197\u001b[0m \u001b[38;5;66;03m# The reason we repeat same the comment below is that\u001b[39;00m\n\u001b[0;32m    198\u001b[0m \u001b[38;5;66;03m# some Python versions print out the first line of a multi-line function\u001b[39;00m\n\u001b[0;32m    199\u001b[0m \u001b[38;5;66;03m# calls in the traceback and some print out the last line\u001b[39;00m\n\u001b[1;32m--> 200\u001b[0m \u001b[43mVariable\u001b[49m\u001b[38;5;241;43m.\u001b[39;49m\u001b[43m_execution_engine\u001b[49m\u001b[38;5;241;43m.\u001b[39;49m\u001b[43mrun_backward\u001b[49m\u001b[43m(\u001b[49m\u001b[43m  \u001b[49m\u001b[38;5;66;43;03m# Calls into the C++ engine to run the backward pass\u001b[39;49;00m\n\u001b[0;32m    201\u001b[0m \u001b[43m    \u001b[49m\u001b[43mtensors\u001b[49m\u001b[43m,\u001b[49m\u001b[43m \u001b[49m\u001b[43mgrad_tensors_\u001b[49m\u001b[43m,\u001b[49m\u001b[43m \u001b[49m\u001b[43mretain_graph\u001b[49m\u001b[43m,\u001b[49m\u001b[43m \u001b[49m\u001b[43mcreate_graph\u001b[49m\u001b[43m,\u001b[49m\u001b[43m \u001b[49m\u001b[43minputs\u001b[49m\u001b[43m,\u001b[49m\n\u001b[0;32m    202\u001b[0m \u001b[43m    \u001b[49m\u001b[43mallow_unreachable\u001b[49m\u001b[38;5;241;43m=\u001b[39;49m\u001b[38;5;28;43;01mTrue\u001b[39;49;00m\u001b[43m,\u001b[49m\u001b[43m \u001b[49m\u001b[43maccumulate_grad\u001b[49m\u001b[38;5;241;43m=\u001b[39;49m\u001b[38;5;28;43;01mTrue\u001b[39;49;00m\u001b[43m)\u001b[49m\n",
      "\u001b[1;31mRuntimeError\u001b[0m: Function 'LogBackward0' returned nan values in its 0th output."
     ]
    }
   ],
   "source": [
    "num_epochs = 1\n",
    "torch.autograd.set_detect_anomaly(True)\n",
    "for epoch in range(num_epochs):\n",
    "    metrics = [0, 0]\n",
    "    i = 0\n",
    "    for X, y in tqdm(train_iter):\n",
    "        i += 1\n",
    "        l = net.update(X, y, lr=1)\n",
    "        metrics[0] += l.sum(); metrics[1] += y.numel()\n",
    "#         print('i %d loss %f' % (i, metrics[0] / metrics[1]))\n",
    "#         if i == 10:\n",
    "#             break\n",
    "    print('epoch %d loss %f' % (epoch + 1, metrics[0] / metrics[1]))\n",
    "torch.autograd.set_detect_anomaly(False)"
   ]
  },
  {
   "cell_type": "code",
   "execution_count": 89,
   "id": "9f02c795",
   "metadata": {},
   "outputs": [
    {
     "data": {
      "text/plain": [
       "array([<AxesSubplot:title={'center':'ankle boot\\ntrouser'}>,\n",
       "       <AxesSubplot:title={'center':'pullover\\ntrouser'}>,\n",
       "       <AxesSubplot:title={'center':'trouser\\ntrouser'}>,\n",
       "       <AxesSubplot:title={'center':'trouser\\ntrouser'}>], dtype=object)"
      ]
     },
     "execution_count": 89,
     "metadata": {},
     "output_type": "execute_result"
    },
    {
     "data": {
      "image/png": "[encoded data removed]",
      "text/plain": [
       "<Figure size 600x150 with 4 Axes>"
      ]
     },
     "metadata": {},
     "output_type": "display_data"
    }
   ],
   "source": [
    "for X, y in test_iter:\n",
    "    break\n",
    "n = 4\n",
    "trues = d2l.get_fashion_mnist_labels(y)\n",
    "preds = d2l.get_fashion_mnist_labels(net(X).argmax(axis=1))\n",
    "titles = [true +'\\n' + pred for true, pred in zip(trues, preds)]\n",
    "d2l.show_images(\n",
    "    X[0:n, 0, :, :], 1, n, titles=titles[0:n])"
   ]
  },
  {
   "cell_type": "code",
   "execution_count": 83,
   "id": "2e9be24c",
   "metadata": {},
   "outputs": [
    {
     "data": {
      "text/plain": [
       "[tensor(403.1857, grad_fn=<AddBackward0>), 624]"
      ]
     },
     "execution_count": 83,
     "metadata": {},
     "output_type": "execute_result"
    }
   ],
   "source": [
    "metrics"
   ]
  },
  {
   "cell_type": "code",
   "execution_count": 88,
   "id": "dc87dca3",
   "metadata": {},
   "outputs": [
    {
     "data": {
      "text/plain": [
       "torch.Size([16, 224, 224])"
      ]
     },
     "execution_count": 88,
     "metadata": {},
     "output_type": "execute_result"
    }
   ],
   "source": [
    "X[:,0,:,:].shape"
   ]
  },
  {
   "cell_type": "code",
   "execution_count": null,
   "id": "c2352841",
   "metadata": {},
   "outputs": [],
   "source": []
  },
  {
   "cell_type": "code",
   "execution_count": null,
   "id": "eda1557a",
   "metadata": {},
   "outputs": [],
   "source": []
  }
 ],
 "metadata": {
  "kernelspec": {
   "display_name": "dl",
   "language": "python",
   "name": "dl"
  },
  "language_info": {
   "codemirror_mode": {
    "name": "ipython",
    "version": 3
   },
   "file_extension": ".py",
   "mimetype": "text/x-python",
   "name": "python",
   "nbconvert_exporter": "python",
   "pygments_lexer": "ipython3",
   "version": "3.8.16"
  }
 },
 "nbformat": 4,
 "nbformat_minor": 5
}
