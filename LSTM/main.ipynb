{
 "cells": [
  {
   "cell_type": "markdown",
   "id": "2ad3cf13",
   "metadata": {},
   "source": [
    "$$ I_{t} = \\sigma(X_{t}W_{xi} + H_{t-1}W_{hi} + b_{i}) $$\n",
    "$$ F_{t} = \\sigma(X_{t}W_{xf} + H_{t-1}W_{hf} + b_{f}) $$\n",
    "$$ O_{t} = \\sigma(X_{t}W_{xo} + H_{t-1}W_{ho} + b_{o}) $$\n",
    "$$ \\hat{C}_{t} = tanh(X_{t}W_{xc} + H_{t-1}W_{hc} + b_{c}) $$\n",
    "$$ C_{t} = F_{t} \\odot C_{t-1} + I_{t} \\odot \\hat{C}_{t} $$\n",
    "$$ H_{t} = O_{t} \\odot tanh(C_{t}) $$\n",
    "$$ Y_{t} = H_{t}W_{hq} + b_{q} $$"
   ]
  },
  {
   "cell_type": "code",
   "execution_count": 15,
   "id": "97a99adc",
   "metadata": {},
   "outputs": [],
   "source": [
    "import torch\n",
    "from torch.nn import functional as F\n",
    "from tqdm import tqdm\n",
    "from d2l import torch as d2l"
   ]
  },
  {
   "cell_type": "code",
   "execution_count": 17,
   "id": "fc41feb7",
   "metadata": {},
   "outputs": [],
   "source": [
    "class LSTM:\n",
    "    def __init__(self, vocab_size, num_hiddens):\n",
    "        self.vocab_size, self.num_hiddens = vocab_size, num_hiddens\n",
    "        self.params = self.init_params()\n",
    "        \n",
    "    def init_params(self):\n",
    "        num_inputs = num_outputs = self.vocab_size; num_hiddens = self.num_hiddens\n",
    "        def normal(shape):\n",
    "            return torch.randn(size=shape, device=device) * 0.01\n",
    "        def three():\n",
    "            return (normal((num_inputs, num_hiddens)), normal((num_hiddens, num_hiddens)), torch.zeros(num_hiddens, device=device))\n",
    "        W_xi, W_hi, b_i = three(); W_xf, W_hf, b_f = three(); W_xo, W_ho, b_o = three(); W_xc, W_hc, b_c = three();\n",
    "        W_hq, b_q = normal((num_hiddens, num_outputs)), torch.zeros(num_outputs, device=device)\n",
    "        params = [W_xi, W_hi, b_i, W_xf, W_hf, b_f, W_xo, W_ho, b_o, W_xc, W_hc, b_c, W_hq, b_q]\n",
    "        for param in params:\n",
    "            param.requires_grad_(True)\n",
    "        return params\n",
    "    \n",
    "    def init_state(self, batch_size):\n",
    "        return (torch.zeros((batch_size, self.num_hiddens), device=device), torch.zeros((batch_size, self.num_hiddens), device=device))\n",
    "    \n",
    "    def forward(self, inputs, state):\n",
    "        C, H = state; outputs = []\n",
    "        W_xi, W_hi, b_i, W_xf, W_hf, b_f, W_xo, W_ho, b_o, W_xc, W_hc, b_c, W_hq, b_q = self.params\n",
    "        for X in inputs:\n",
    "            I = torch.sigmoid(X @ W_xi + H @ W_hi + b_i)\n",
    "            F = torch.sigmoid(X @ W_xf + H @ W_hf + b_f)\n",
    "            O = torch.sigmoid(X @ W_xo + H @ W_ho + b_o)\n",
    "            C_hat = torch.tanh(X @ W_xc + H @ W_hc + b_c)\n",
    "            C = F * C + I * C_hat\n",
    "            H = O * torch.tanh(C)\n",
    "            Y = H @ W_hq + b_q\n",
    "            outputs.append(Y)\n",
    "        return torch.cat(outputs, dim=0), (C, H)\n",
    "    \n",
    "    def __call__(self, X, state):\n",
    "        inputs = F.one_hot(X.T, self.vocab_size).type(torch.float32)\n",
    "        return self.forward(inputs, state)\n",
    "    \n",
    "    def grad_clipping(self, theta):\n",
    "        norm = torch.sqrt(sum([torch.sum(p) for p in self.params]))\n",
    "        if norm > theta:\n",
    "            for p in self.params:\n",
    "                p.grad[:] *= theta / norm"
   ]
  },
  {
   "cell_type": "code",
   "execution_count": 25,
   "id": "a5ceafe5",
   "metadata": {},
   "outputs": [],
   "source": [
    "def seq_data_iter_sequential(corpus, batch_size, num_steps):  #@save\n",
    "    \"\"\"使用顺序分区生成一个小批量子序列\"\"\"\n",
    "    offset = random.randint(0, num_steps)\n",
    "    num_tokens = ((len(corpus) - offset - 1) // batch_size) * batch_size\n",
    "    Xs = torch.tensor(corpus[offset: offset + num_tokens])\n",
    "    Ys = torch.tensor(corpus[offset + 1: offset + 1 + num_tokens])\n",
    "    Xs, Ys = Xs.reshape(batch_size, -1), Ys.reshape(batch_size, -1)\n",
    "    num_batches = Xs.shape[1] // num_steps\n",
    "    for i in range(0, num_steps * num_batches, num_steps):\n",
    "        X = Xs[:, i: i + num_steps]\n",
    "        Y = Ys[:, i: i + num_steps]\n",
    "        yield X, Y\n",
    "\n",
    "def tokenize(lines, token='word'): \n",
    "    \"\"\"将文本行拆分为单词或字符词元\"\"\"\n",
    "    if token == 'word':\n",
    "        return [line.split() for line in lines]\n",
    "    elif token == 'char':\n",
    "        return [list(line) for line in lines]\n",
    "    else:\n",
    "        print('错误：未知词元类型：' + token)\n",
    "\n",
    "def load_corpus_vocab(max_tokens=-1): \n",
    "    \"\"\"词元索引列表和词表\"\"\"\n",
    "    lines = texts\n",
    "    tokens = d2l.tokenize(lines)\n",
    "    vocab = d2l.Vocab(tokens)\n",
    "    corpus = [vocab[token] for line in tokens for token in line]\n",
    "    if max_tokens:\n",
    "        corpus = corpus[:max_tokens]\n",
    "    return corpus, vocab\n",
    "\n",
    "class SeqDataLoader: \n",
    "    \"\"\"加载序列数据的迭代器\"\"\"\n",
    "    def __init__(self, batch_size, num_steps, use_random_iter, max_tokens):\n",
    "        if use_random_iter:\n",
    "            self.data_iter_fn = d2l.seq_data_iter_random\n",
    "        else:\n",
    "            self.data_iter_fn = d2l.seq_data_iter_sequential\n",
    "        self.corpus, self.vocab = load_corpus_vocab(max_tokens)\n",
    "        self.batch_size, self.num_steps = batch_size, num_steps\n",
    "\n",
    "    def __iter__(self):\n",
    "        return self.data_iter_fn(self.corpus, self.batch_size, self.num_steps)\n",
    "    \n",
    "def load_data(batch_size, num_steps,  #@save\n",
    "                           use_random_iter=False, max_tokens=10000):\n",
    "    \"\"\"返回迭代器和词表\"\"\"\n",
    "    data_iter = SeqDataLoader(\n",
    "        batch_size, num_steps, use_random_iter, max_tokens)\n",
    "    return data_iter, data_iter.vocab"
   ]
  },
  {
   "cell_type": "code",
   "execution_count": 31,
   "id": "ee90bf6b",
   "metadata": {},
   "outputs": [],
   "source": [
    "batch_size, num_steps, device = 32, 35, 'cpu'\n",
    "# train_iter, vocab = d2l.load_data_time_machine(batch_size, num_steps)\n",
    "texts = ['I love cat'] * 1000\n",
    "train_iter, vocab = load_data(batch_size, num_steps, max_tokens=10000)\n",
    "num_epochs, num_hiddens = 100, 256\n",
    "net = LSTM(len(vocab), num_hiddens)\n",
    "loss = torch.nn.CrossEntropyLoss()\n",
    "updater = torch.optim.SGD(net.params, lr=1)"
   ]
  },
  {
   "cell_type": "code",
   "execution_count": 41,
   "id": "1a4f5acb",
   "metadata": {},
   "outputs": [
    {
     "name": "stdout",
     "output_type": "stream",
     "text": [
      "epoch 10 困惑度 1.008207\n",
      "epoch 20 困惑度 1.007645\n",
      "epoch 30 困惑度 1.007135\n",
      "epoch 40 困惑度 1.006697\n",
      "epoch 50 困惑度 1.006306\n",
      "epoch 60 困惑度 1.005967\n",
      "epoch 70 困惑度 1.005650\n",
      "epoch 80 困惑度 1.005362\n",
      "epoch 90 困惑度 1.005101\n",
      "epoch 100 困惑度 1.004853\n"
     ]
    }
   ],
   "source": [
    "for epoch in range(num_epochs):\n",
    "    state = None; metrics = [0, 0]\n",
    "    for X, Y in train_iter:\n",
    "        if state is None:\n",
    "            state = net.init_state(batch_size)\n",
    "        for s in state: s.detach_()\n",
    "        y_hat, state = net(X, state)\n",
    "        y = Y.T.reshape(-1)\n",
    "        l = loss(y_hat, y)\n",
    "        l.backward()\n",
    "        net.grad_clipping(1)\n",
    "        updater.step()\n",
    "        metrics[0] += l * y.numel(); metrics[1] += y.numel()\n",
    "    if (epoch + 1) % (num_epochs // 10) == 0:\n",
    "        print('epoch %d 困惑度 %f' % (epoch + 1, torch.exp(metrics[0] / metrics[1])))"
   ]
  },
  {
   "cell_type": "code",
   "execution_count": 42,
   "id": "e593a2f4",
   "metadata": {},
   "outputs": [],
   "source": [
    "def predict(prefix, num_preds):\n",
    "    state = net.init_state(1)\n",
    "    outputs = [vocab[prefix[0]]]\n",
    "    get_input = lambda: torch.tensor(outputs[-1]).reshape(1, 1)\n",
    "    for y in prefix[1:]:\n",
    "        _, state = net(get_input(), state)\n",
    "        outputs.append(vocab[y])\n",
    "    for _ in range(num_preds):\n",
    "        y, state = net(get_input(), state)\n",
    "        outputs.append(int(y.argmax(dim=1)))\n",
    "    return ' '.join([vocab.idx_to_token[i] for i in outputs])"
   ]
  },
  {
   "cell_type": "code",
   "execution_count": 43,
   "id": "1ac79521",
   "metadata": {},
   "outputs": [
    {
     "data": {
      "text/plain": [
       "'I love cat'"
      ]
     },
     "execution_count": 43,
     "metadata": {},
     "output_type": "execute_result"
    }
   ],
   "source": [
    "predict('I love'.split(' '), 1)"
   ]
  },
  {
   "cell_type": "code",
   "execution_count": null,
   "id": "34291158",
   "metadata": {},
   "outputs": [],
   "source": []
  }
 ],
 "metadata": {
  "kernelspec": {
   "display_name": "dl",
   "language": "python",
   "name": "dl"
  },
  "language_info": {
   "codemirror_mode": {
    "name": "ipython",
    "version": 3
   },
   "file_extension": ".py",
   "mimetype": "text/x-python",
   "name": "python",
   "nbconvert_exporter": "python",
   "pygments_lexer": "ipython3",
   "version": "3.8.16"
  }
 },
 "nbformat": 4,
 "nbformat_minor": 5
}
