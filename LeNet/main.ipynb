{
 "cells": [
  {
   "cell_type": "code",
   "execution_count": 2,
   "id": "e873341a",
   "metadata": {},
   "outputs": [],
   "source": [
    "import numpy as np\n",
    "import torch\n",
    "from d2l import torch as d2l\n",
    "from tqdm import tqdm"
   ]
  },
  {
   "cell_type": "code",
   "execution_count": 19,
   "id": "369fc11d",
   "metadata": {},
   "outputs": [],
   "source": [
    "\"\"\" \n",
    "卷积朴素实现\n",
    "def conv2d(input, weight, bias=None, stride=1, padding=0):\n",
    "    batch_size, in_channels, in_height, in_width = input.size()\n",
    "    out_channels, _, kernel_height, kernel_width = weight.size()\n",
    "    out_height = int((in_height + 2 * padding - kernel_height) / stride) + 1\n",
    "    out_width = int((in_width + 2 * padding - kernel_width) / stride) + 1\n",
    "    padded_input = torch.nn.functional.pad(input, (padding, padding, padding, padding))\n",
    "    output = torch.zeros(batch_size, out_channels, out_height, out_width)\n",
    "    for b in range(batch_size):\n",
    "        for c_out in range(out_channels):\n",
    "            for h_out in range(out_height):\n",
    "                for w_out in range(out_width):\n",
    "                    h_start = h_out * stride\n",
    "                    w_start = w_out * stride\n",
    "                    h_end = h_start + kernel_height\n",
    "                    w_end = w_start + kernel_width\n",
    "                    input_patch = padded_input[b, :, h_start:h_end, w_start:w_end]\n",
    "                    output[b, c_out, h_out, w_out] = torch.sum(input_patch * weight[c_out]) + (bias[c_out] if bias is not None else 0)\n",
    "    return output\n",
    "\"\"\"\n",
    "\n",
    "def conv2d(input, weight, bias=None, stride=1, padding=0):\n",
    "    padded_input = torch.nn.functional.pad(input, (padding, padding, padding, padding))\n",
    "    output = torch.nn.functional.conv2d(padded_input, weight, bias=bias, stride=stride)\n",
    "    return output"
   ]
  },
  {
   "cell_type": "code",
   "execution_count": 20,
   "id": "c97d3946",
   "metadata": {},
   "outputs": [],
   "source": [
    "\"\"\"\n",
    "ave 池化朴素实现\n",
    "def avg_pool2d(input, kernel_size, stride=None, padding=0):\n",
    "    batch_size, channels, height, width = input.size()\n",
    "    output_height = int((height + 2 * padding - kernel_size) / stride) + 1\n",
    "    output_width = int((width + 2 * padding - kernel_size) / stride) + 1\n",
    "    output = torch.zeros(batch_size, channels, output_height, output_width)\n",
    "    for b in range(batch_size):\n",
    "        for c in range(channels):\n",
    "            for i in range(output_height):\n",
    "                for j in range(output_width):\n",
    "                    avg_value = torch.mean(\n",
    "                        input[b, c, i * stride:i * stride + kernel_size, j * stride:j * stride + kernel_size]\n",
    "                    )\n",
    "                    output[b, c, i, j] = avg_value\n",
    "    return output\n",
    "\"\"\"\n",
    "\n",
    "def avg_pool2d(input, kernel_size, stride=None, padding=0):\n",
    "    output = torch.nn.functional.avg_pool2d(input, kernel_size, stride=stride, padding=padding)\n",
    "    return output"
   ]
  },
  {
   "cell_type": "code",
   "execution_count": null,
   "id": "2db33d22",
   "metadata": {},
   "outputs": [],
   "source": []
  },
  {
   "cell_type": "code",
   "execution_count": 45,
   "id": "bb55639b",
   "metadata": {},
   "outputs": [],
   "source": [
    "class LeNet:\n",
    "    def __init__(self):\n",
    "        self.params = self._init_params()\n",
    "        \n",
    "    def _init_params(self):\n",
    "        \"\"\"初始化参数\"\"\"\n",
    "        def normal(shape):\n",
    "            return torch.randn(size=shape, device=device) * 0.01\n",
    "        \"\"\"输出通道 * 输入通道 * 卷积核边长 * 卷积核边长\"\"\"\n",
    "        W_conv1 = normal((6, 1, 5, 5)); b_conv1 = torch.zeros(6, device=device);\n",
    "        W_conv2 = normal((16, 6, 5, 5)); b_conv2 = torch.zeros(16, device=device);\n",
    "        W_h1h2 = normal((16 * 5 * 5, 120)); b_h1h2 = torch.zeros(120, device=device);\n",
    "        W_h2h3 = normal((120, 84)); b_h2h3 = torch.zeros(84, device=device);\n",
    "        W_h3y = normal((84, 10)); b_h3y = torch.zeros(10, device=device);\n",
    "        \n",
    "        params = [W_conv1,b_conv1, W_conv2, b_conv2, W_h1h2, b_h1h2, W_h2h3, b_h2h3, W_h3y, b_h3y]\n",
    "        for param in params:\n",
    "            param.requires_grad_(True)\n",
    "        return params\n",
    "    \n",
    "    def _forward(self, X):\n",
    "        \"\"\"推理函数\"\"\"\n",
    "        W_conv1, b_conv1, W_conv2, b_conv2, W_h1h2, b_h1h2, W_h2h3, b_h2h3, W_h3y, b_h3y = self.params\n",
    "        C1 = torch.sigmoid(conv2d(X, W_conv1, b_conv1, stride=1, padding=2))\n",
    "        C2 = avg_pool2d(C1, 2, stride=2, padding=0)\n",
    "        C3 = torch.sigmoid(conv2d(C2, W_conv2, b_conv2, stride=1, padding=0))\n",
    "        C4 = avg_pool2d(C3, 2, stride=2, padding=0)\n",
    "        H1 = C4.reshape(C4.size(0), -1)\n",
    "        H2 = torch.sigmoid(H1 @ W_h1h2 + b_h1h2)\n",
    "        H3 = torch.sigmoid(H2 @ W_h2h3 + b_h2h3)\n",
    "        Y = torch.sigmoid(H3 @ W_h3y + b_h3y)\n",
    "        return Y\n",
    "    \n",
    "    def update(self, X, y, lr):\n",
    "        \"\"\"更新函数\"\"\"\n",
    "        y_hat = self._forward(X)\n",
    "        l = self._loss(y_hat, y)\n",
    "        l.mean().backward()\n",
    "        \"\"\"sgd\"\"\"\n",
    "        with torch.no_grad():\n",
    "            for param in self.params:\n",
    "                param -= lr * param.grad / X.shape[0]\n",
    "                param.grad.zero_()\n",
    "        return l\n",
    "                \n",
    "    def _loss(self, y_hat, y):\n",
    "        \"\"\"交叉熵损失\"\"\"\n",
    "        return - torch.log(y_hat[range(len(y_hat)), y])\n",
    "                \n",
    "    def __call__(self, X):\n",
    "        return self._forward(X)"
   ]
  },
  {
   "cell_type": "code",
   "execution_count": 46,
   "id": "df28cd2f",
   "metadata": {},
   "outputs": [
    {
     "data": {
      "text/plain": [
       "torch.Size([2, 10])"
      ]
     },
     "execution_count": 46,
     "metadata": {},
     "output_type": "execute_result"
    }
   ],
   "source": [
    "net = LeNet()\n",
    "X = torch.randn(2, 1, 28, 28)\n",
    "net(X).shape"
   ]
  },
  {
   "cell_type": "code",
   "execution_count": 54,
   "id": "f27648ad",
   "metadata": {},
   "outputs": [],
   "source": [
    "batch_size, device = 16, 'cpu'\n",
    "train_iter, test_iter = d2l.load_data_fashion_mnist(batch_size, resize=28)\n",
    "net = LeNet()"
   ]
  },
  {
   "cell_type": "code",
   "execution_count": 55,
   "id": "1b639454",
   "metadata": {},
   "outputs": [
    {
     "name": "stderr",
     "output_type": "stream",
     "text": [
      "100%|██████████████████████████████████████████████████████████| 3750/3750 [00:31<00:00, 118.16it/s]\n"
     ]
    },
    {
     "name": "stdout",
     "output_type": "stream",
     "text": [
      "epoch 1 loss 0.072560\n"
     ]
    },
    {
     "name": "stderr",
     "output_type": "stream",
     "text": [
      "100%|██████████████████████████████████████████████████████████| 3750/3750 [00:35<00:00, 106.49it/s]\n"
     ]
    },
    {
     "name": "stdout",
     "output_type": "stream",
     "text": [
      "epoch 2 loss 0.007701\n"
     ]
    },
    {
     "name": "stderr",
     "output_type": "stream",
     "text": [
      "100%|██████████████████████████████████████████████████████████| 3750/3750 [00:35<00:00, 105.62it/s]\n"
     ]
    },
    {
     "name": "stdout",
     "output_type": "stream",
     "text": [
      "epoch 3 loss 0.003928\n"
     ]
    },
    {
     "name": "stderr",
     "output_type": "stream",
     "text": [
      "100%|██████████████████████████████████████████████████████████| 3750/3750 [00:36<00:00, 101.73it/s]\n"
     ]
    },
    {
     "name": "stdout",
     "output_type": "stream",
     "text": [
      "epoch 4 loss 0.002573\n"
     ]
    },
    {
     "name": "stderr",
     "output_type": "stream",
     "text": [
      "100%|███████████████████████████████████████████████████████████| 3750/3750 [00:38<00:00, 97.30it/s]"
     ]
    },
    {
     "name": "stdout",
     "output_type": "stream",
     "text": [
      "epoch 5 loss 0.001888\n"
     ]
    },
    {
     "name": "stderr",
     "output_type": "stream",
     "text": [
      "\n"
     ]
    }
   ],
   "source": [
    "num_epochs = 5\n",
    "for epoch in range(num_epochs):\n",
    "    metrics = [0, 0]\n",
    "    i = 0\n",
    "    for X, y in tqdm(train_iter, ncols=100):\n",
    "        l = net.update(X, y, lr=0.1)\n",
    "        metrics[0] += l.sum(); metrics[1] += y.numel()\n",
    "    print('epoch %d loss %f' % (epoch + 1, metrics[0] / metrics[1]))"
   ]
  },
  {
   "cell_type": "code",
   "execution_count": 56,
   "id": "81d811f1",
   "metadata": {},
   "outputs": [
    {
     "data": {
      "text/plain": [
       "[tensor(113.2575, grad_fn=<AddBackward0>), 60000]"
      ]
     },
     "execution_count": 56,
     "metadata": {},
     "output_type": "execute_result"
    }
   ],
   "source": [
    "metrics"
   ]
  },
  {
   "cell_type": "code",
   "execution_count": 58,
   "id": "22d5fc55",
   "metadata": {},
   "outputs": [
    {
     "data": {
      "text/plain": [
       "array([<AxesSubplot:title={'center':'ankle boot\\nankle boot'}>,\n",
       "       <AxesSubplot:title={'center':'pullover\\nankle boot'}>,\n",
       "       <AxesSubplot:title={'center':'trouser\\nankle boot'}>,\n",
       "       <AxesSubplot:title={'center':'trouser\\nankle boot'}>,\n",
       "       <AxesSubplot:title={'center':'shirt\\nankle boot'}>,\n",
       "       <AxesSubplot:title={'center':'trouser\\nankle boot'}>,\n",
       "       <AxesSubplot:title={'center':'coat\\nankle boot'}>,\n",
       "       <AxesSubplot:title={'center':'shirt\\nankle boot'}>,\n",
       "       <AxesSubplot:title={'center':'sandal\\nankle boot'}>,\n",
       "       <AxesSubplot:title={'center':'sneaker\\nankle boot'}>], dtype=object)"
      ]
     },
     "execution_count": 58,
     "metadata": {},
     "output_type": "execute_result"
    },
    {
     "data": {
      "image/png": "[encoded data removed]",
      "text/plain": [
       "<Figure size 1500x150 with 10 Axes>"
      ]
     },
     "metadata": {},
     "output_type": "display_data"
    }
   ],
   "source": [
    "for X, y in test_iter:\n",
    "    break\n",
    "n = 10\n",
    "trues = d2l.get_fashion_mnist_labels(y)\n",
    "preds = d2l.get_fashion_mnist_labels(net(X).argmax(axis=1))\n",
    "titles = [true +'\\n' + pred for true, pred in zip(trues, preds)]\n",
    "d2l.show_images(\n",
    "    X[0:n].reshape((n, 28, 28)), 1, n, titles=titles[0:n])"
   ]
  },
  {
   "cell_type": "code",
   "execution_count": 40,
   "id": "72ff54d1",
   "metadata": {},
   "outputs": [
    {
     "data": {
      "text/plain": [
       "tensor(-4.6052)"
      ]
     },
     "execution_count": 40,
     "metadata": {},
     "output_type": "execute_result"
    }
   ],
   "source": []
  },
  {
   "cell_type": "code",
   "execution_count": null,
   "id": "e096b478",
   "metadata": {},
   "outputs": [],
   "source": []
  }
 ],
 "metadata": {
  "kernelspec": {
   "display_name": "dl",
   "language": "python",
   "name": "dl"
  },
  "language_info": {
   "codemirror_mode": {
    "name": "ipython",
    "version": 3
   },
   "file_extension": ".py",
   "mimetype": "text/x-python",
   "name": "python",
   "nbconvert_exporter": "python",
   "pygments_lexer": "ipython3",
   "version": "3.8.16"
  }
 },
 "nbformat": 4,
 "nbformat_minor": 5
}
