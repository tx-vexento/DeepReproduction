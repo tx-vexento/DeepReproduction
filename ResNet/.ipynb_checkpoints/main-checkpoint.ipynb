{
 "cells": [
  {
   "cell_type": "code",
   "execution_count": 1,
   "id": "1715fb76",
   "metadata": {},
   "outputs": [],
   "source": [
    "import numpy as np\n",
    "import torch\n",
    "from torch import nn\n",
    "from d2l import torch as d2l\n",
    "from tqdm import tqdm"
   ]
  },
  {
   "cell_type": "code",
   "execution_count": 2,
   "id": "65e3bbd1",
   "metadata": {},
   "outputs": [],
   "source": [
    "\"\"\" \n",
    "# 卷积朴素实现\n",
    "def conv2d(input, weight, bias=None, stride=1, padding=0):\n",
    "    batch_size, in_channels, in_height, in_width = input.size()\n",
    "    out_channels, _, kernel_height, kernel_width = weight.size()\n",
    "    out_height = int((in_height + 2 * padding - kernel_height) / stride) + 1\n",
    "    out_width = int((in_width + 2 * padding - kernel_width) / stride) + 1\n",
    "    padded_input = torch.nn.functional.pad(input, (padding, padding, padding, padding))\n",
    "    output = torch.zeros(batch_size, out_channels, out_height, out_width)\n",
    "    for b in range(batch_size):\n",
    "        for c_out in range(out_channels):\n",
    "            for h_out in range(out_height):\n",
    "                for w_out in range(out_width):\n",
    "                    h_start = h_out * stride\n",
    "                    w_start = w_out * stride\n",
    "                    h_end = h_start + kernel_height\n",
    "                    w_end = w_start + kernel_width\n",
    "                    input_patch = padded_input[b, :, h_start:h_end, w_start:w_end]\n",
    "                    output[b, c_out, h_out, w_out] = torch.sum(input_patch * weight[c_out]) + (bias[c_out] if bias is not None else 0)\n",
    "    return output\n",
    "\"\"\"\n",
    "\n",
    "# \"\"\"\n",
    "def conv2d(inputs, weight, bias=None, stride=1, padding=0):\n",
    "    padded_input = torch.nn.functional.pad(inputs, (padding, padding, padding, padding))\n",
    "    output = torch.nn.functional.conv2d(padded_input, weight, bias=bias, stride=stride)\n",
    "    return output\n",
    "# \"\"\""
   ]
  },
  {
   "cell_type": "code",
   "execution_count": 3,
   "id": "1621f122",
   "metadata": {},
   "outputs": [
    {
     "data": {
      "text/plain": [
       "'\\ndef max_pool2d(input, kernel_size, stride=1, padding=0):\\n    output = torch.nn.functional.max_pool2d(input, kernel_size, stride=stride, padding=padding)\\n    return output\\n'"
      ]
     },
     "execution_count": 3,
     "metadata": {},
     "output_type": "execute_result"
    }
   ],
   "source": [
    "# \"\"\"\n",
    "# max 池化朴素实现\n",
    "def max_pool2d(inputs, kernel_size, stride=None, padding=0):\n",
    "    batch_size, channels, height, width = inputs.size()\n",
    "    output_height = int((height + 2 * padding - kernel_size) / stride) + 1\n",
    "    output_width = int((width + 2 * padding - kernel_size) / stride) + 1\n",
    "    unfolded = torch.nn.functional.unfold(\n",
    "        inputs,\n",
    "        kernel_size=kernel_size,\n",
    "        dilation=1,\n",
    "        padding=padding,\n",
    "        stride=stride\n",
    "    )\n",
    "    unfolded = unfolded.view(batch_size, channels, -1, output_height, output_width)\n",
    "    output, _ = torch.max(unfolded, dim=2)\n",
    "    return output\n",
    "# \"\"\"\n",
    "\n",
    "\"\"\"\n",
    "def max_pool2d(input, kernel_size, stride=1, padding=0):\n",
    "    output = torch.nn.functional.max_pool2d(input, kernel_size, stride=stride, padding=padding)\n",
    "    return output\n",
    "\"\"\""
   ]
  },
  {
   "cell_type": "code",
   "execution_count": 4,
   "id": "2a797ca5",
   "metadata": {},
   "outputs": [],
   "source": [
    "def dropout(X, p):\n",
    "    \"\"\"dropout\"\"\"\n",
    "    return X * (torch.rand_like(X) > p).float() / (1 - p)"
   ]
  },
  {
   "cell_type": "code",
   "execution_count": 5,
   "id": "173f1e70",
   "metadata": {},
   "outputs": [],
   "source": [
    "def relu(x):\n",
    "    return torch.max(torch.zeros_like(x), x)"
   ]
  },
  {
   "cell_type": "code",
   "execution_count": 6,
   "id": "63c67abe",
   "metadata": {},
   "outputs": [],
   "source": [
    "def sigmoid(x):\n",
    "    return 1 / (1 + torch.exp(-x))"
   ]
  },
  {
   "cell_type": "code",
   "execution_count": 7,
   "id": "58e5bff1",
   "metadata": {},
   "outputs": [
    {
     "data": {
      "text/plain": [
       "'\\ndef AdaptiveAvgPool2d(x, output_size):\\n    return torch.nn.AdaptiveAvgPool2d(output_size)(x)\\n'"
      ]
     },
     "execution_count": 7,
     "metadata": {},
     "output_type": "execute_result"
    }
   ],
   "source": [
    "# \"\"\"\n",
    "# 全局平均汇聚层朴素实现\n",
    "def AdaptiveAvgPool2d(x, output_size):\n",
    "    batch_size, channels, height, width = x.size()\n",
    "    output_h, output_w = output_size\n",
    "    stride_h = height // output_h\n",
    "    stride_w = width // output_w\n",
    "    output = []\n",
    "    for i in range(output_h):\n",
    "        for j in range(output_w):\n",
    "            h_start = i * stride_h\n",
    "            h_end = min(h_start + stride_h, height)\n",
    "            w_start = j * stride_w\n",
    "            w_end = min(w_start + stride_w, width)\n",
    "            pool_region = x[:, :, h_start:h_end, w_start:w_end]\n",
    "            pool_avg = torch.mean(pool_region, dim=(2, 3))\n",
    "            output.append(pool_avg)\n",
    "    output = torch.stack(output, dim=2)\n",
    "    output = output.view(batch_size, channels, output_h, output_w)\n",
    "\n",
    "    return output\n",
    "# \"\"\"\n",
    "\n",
    "\"\"\"\n",
    "def AdaptiveAvgPool2d(x, output_size):\n",
    "    return torch.nn.AdaptiveAvgPool2d(output_size)(x)\n",
    "\"\"\""
   ]
  },
  {
   "cell_type": "code",
   "execution_count": 30,
   "id": "4f7c371a",
   "metadata": {},
   "outputs": [],
   "source": [
    "class ResNet:\n",
    "    def __init__(self):\n",
    "        self._init_params()\n",
    "        \n",
    "    def _init_params(self):\n",
    "        \"\"\"初始化参数\"\"\"\n",
    "        def normal(shape):\n",
    "            return torch.nn.init.xavier_uniform_(torch.empty(shape))\n",
    "        \"\"\"输出通道 * 输入通道 * 卷积核边长 * 卷积核边长\"\"\"\n",
    "        def Residual(input_channels, num_channels):\n",
    "            \"\"\"残差块\"\"\"\n",
    "            W_1 = normal((num_channels, input_channels, 3, 3)); b_1 = torch.zeros(num_channels, device=device)\n",
    "            W_2 = normal((num_channels, num_channels, 3, 3)); b_2 = torch.zeros(num_channels, device=device)\n",
    "            return [W_1, b_1, W_2, b_2]\n",
    "        def Residual_use_1x1conv(input_channels, num_channels):\n",
    "            \"\"\"带1*1卷积核的残差块\"\"\"\n",
    "            W_1 = normal((num_channels, input_channels, 3, 3)); b_1 = torch.zeros(num_channels, device=device)\n",
    "            W_2 = normal((num_channels, num_channels, 3, 3)); b_2 = torch.zeros(num_channels, device=device)\n",
    "            W_3 = normal((num_channels, input_channels, 1, 1)); b_3 = torch.zeros(num_channels, device=device)\n",
    "            return [W_1, b_1, W_2, b_2, W_3, b_3]   \n",
    "        def resnet_block(input_channels, num_channels, num_residuals, first_block=False):\n",
    "            \"\"\"resnet 块\"\"\"\n",
    "            blk = []\n",
    "            for i in range(num_residuals):\n",
    "                if i == 0 and not first_block:\n",
    "                    blk.append(Residual_use_1x1conv(input_channels, num_channels))\n",
    "                else:\n",
    "                    blk.append(Residual(num_channels, num_channels))\n",
    "            return blk\n",
    "        W_conv = normal((64, 1, 7, 7)); b_conv = torch.zeros(64, device=device)\n",
    "        resnet_b1 = resnet_block(64, 64, 2, first_block=True)\n",
    "        resnet_b2 = resnet_block(64, 128, 2)\n",
    "        resnet_b3 = resnet_block(128, 256, 2)\n",
    "        resnet_b4 = resnet_block(256, 512, 2)\n",
    "        W_linear = normal((512, 10)); b_linear = torch.zeros(10, device=device)\n",
    "        self.params = [W_conv, b_conv, resnet_b1, resnet_b2, resnet_b3, resnet_b4, W_linear, b_linear]\n",
    "        self.flt_params = [W_conv, b_conv]\n",
    "        for resnet_b in [resnet_b1, resnet_b2, resnet_b3, resnet_b4]:\n",
    "            for res in resnet_b:\n",
    "                for param in res:\n",
    "                    self.flt_params.append(param)\n",
    "        self.flt_params.extend([W_linear, b_linear])\n",
    "        for param in self.flt_params:\n",
    "            param.requires_grad_(True)        \n",
    "\n",
    "    def _forward(self, X):\n",
    "        \"\"\"推理函数\"\"\"\n",
    "        W_conv, b_conv, resnet_b1, resnet_b2, resnet_b3, resnet_b4, W_linear, b_linear = self.params\n",
    "        def Residual(X, params, strides=1):\n",
    "            W_1, b_1, W_2, b_2 = params\n",
    "            Y = relu(conv2d(X, W_1, b_1, stride=strides, padding=1))\n",
    "            Y = conv2d(Y, W_2, b_2, stride=1, padding=1)\n",
    "            Y += X\n",
    "            Y = relu(Y)\n",
    "            return Y\n",
    "        def Residual_use_1x1conv(X, params, strides=1):\n",
    "            W_1, b_1, W_2, b_2, W_3, b_3 = params\n",
    "            Y = relu(conv2d(X, W_1, b_1, stride=strides, padding=1))\n",
    "            Y = conv2d(Y, W_2, b_2, stride=1, padding=1)\n",
    "            Y += conv2d(X, W_3, b_3, stride=strides)\n",
    "            Y = relu(Y)\n",
    "            return Y\n",
    "        def resnet_block(X, params, first_block=False):\n",
    "            num_residuals = len(params)\n",
    "            for i in range(num_residuals):\n",
    "                param = params[i]\n",
    "                if i == 0 and not first_block:\n",
    "                    X = Residual_use_1x1conv(X, param, strides=2)\n",
    "                else:\n",
    "                    X = Residual(X, param)\n",
    "            return X\n",
    "        X = relu(conv2d(X, W_conv, b_conv, stride=2, padding=3))\n",
    "        X = max_pool2d(X, kernel_size=3, stride=2, padding=1)\n",
    "        X = resnet_block(X, resnet_b1, first_block=True)\n",
    "        X = resnet_block(X, resnet_b2)\n",
    "        X = resnet_block(X, resnet_b3)\n",
    "        X = resnet_block(X, resnet_b4)\n",
    "        X = AdaptiveAvgPool2d(X, (1, 1))\n",
    "        X = X.reshape(X.size(0), -1)\n",
    "        Y = sigmoid(X @ W_linear + b_linear)\n",
    "        return Y\n",
    "    \n",
    "    def __call__(self, X):\n",
    "        return self._forward(X)\n",
    "    \n",
    "    def update(self, X, y, lr):\n",
    "        \"\"\"更新函数\"\"\"\n",
    "        y_hat = self._forward(X)\n",
    "        l = self._loss(y_hat, y)\n",
    "        l.mean().backward()\n",
    "        self.grad_clipping(1)\n",
    "        \"\"\"sgd\"\"\"\n",
    "        with torch.no_grad():\n",
    "            for param in self.flt_params:\n",
    "                param -= lr * param.grad / X.shape[0]\n",
    "                param.grad.zero_()\n",
    "        return l\n",
    "                \n",
    "    def _loss(self, y_hat, y):\n",
    "        \"\"\"交叉熵损失\"\"\"\n",
    "        return - torch.log(y_hat[range(len(y_hat)), y])\n",
    "                \n",
    "    def grad_clipping(self, theta):\n",
    "        norm = torch.sqrt(sum([torch.sum(p ** 2) for p in self.flt_params]))\n",
    "        if norm > theta:\n",
    "            for param in self.flt_params:\n",
    "                param.grad[:] *= theta / norm"
   ]
  },
  {
   "cell_type": "code",
   "execution_count": null,
   "id": "2ae8e3e3",
   "metadata": {},
   "outputs": [
    {
     "name": "stdout",
     "output_type": "stream",
     "text": [
      "epoch 10 loss 0.008116\n",
      "epoch 20 loss 0.001887\n",
      "epoch 30 loss 0.000945\n",
      "epoch 40 loss 0.000601\n"
     ]
    }
   ],
   "source": [
    "device = 'cpu'\n",
    "net = ResNet()\n",
    "X = torch.randn(1, 1, 224, 224); y = torch.tensor([1, 2, 3, 4])\n",
    "net(X).shape\n",
    "for epoch in range(100):\n",
    "    l = net.update(X, y, lr=1)\n",
    "    if (epoch + 1) % 10 == 0:\n",
    "        print('epoch %d loss %f' % (epoch + 1, l.mean()))"
   ]
  },
  {
   "cell_type": "code",
   "execution_count": 23,
   "id": "927d924c",
   "metadata": {},
   "outputs": [],
   "source": [
    "net = ResNet()\n",
    "lr, num_epochs, batch_size = 0.1, 1, 16\n",
    "train_iter, test_iter = d2l.load_data_fashion_mnist(batch_size, resize=224)"
   ]
  },
  {
   "cell_type": "code",
   "execution_count": 24,
   "id": "d75a403c",
   "metadata": {},
   "outputs": [
    {
     "name": "stdout",
     "output_type": "stream",
     "text": [
      "i 2 loss 0.692985\n",
      "i 3 loss 0.692660\n",
      "i 4 loss 0.692745\n",
      "i 5 loss 0.692773\n",
      "i 6 loss 0.692728\n",
      "i 7 loss 0.692788\n",
      "i 8 loss 0.692765\n",
      "i 9 loss 0.692697\n"
     ]
    },
    {
     "ename": "KeyboardInterrupt",
     "evalue": "",
     "output_type": "error",
     "traceback": [
      "\u001b[1;31m---------------------------------------------------------------------------\u001b[0m",
      "\u001b[1;31mKeyboardInterrupt\u001b[0m                         Traceback (most recent call last)",
      "Cell \u001b[1;32mIn[24], line 5\u001b[0m\n\u001b[0;32m      3\u001b[0m i \u001b[38;5;241m=\u001b[39m \u001b[38;5;241m0\u001b[39m\n\u001b[0;32m      4\u001b[0m \u001b[38;5;28;01mfor\u001b[39;00m X, y \u001b[38;5;129;01min\u001b[39;00m train_iter:\n\u001b[1;32m----> 5\u001b[0m     l \u001b[38;5;241m=\u001b[39m \u001b[43mnet\u001b[49m\u001b[38;5;241;43m.\u001b[39;49m\u001b[43mupdate\u001b[49m\u001b[43m(\u001b[49m\u001b[43mX\u001b[49m\u001b[43m,\u001b[49m\u001b[43m \u001b[49m\u001b[43my\u001b[49m\u001b[43m,\u001b[49m\u001b[43m \u001b[49m\u001b[43mlr\u001b[49m\u001b[38;5;241;43m=\u001b[39;49m\u001b[43mlr\u001b[49m\u001b[43m)\u001b[49m\n\u001b[0;32m      6\u001b[0m     metrics[\u001b[38;5;241m0\u001b[39m] \u001b[38;5;241m+\u001b[39m\u001b[38;5;241m=\u001b[39m l\u001b[38;5;241m.\u001b[39msum(); metrics[\u001b[38;5;241m1\u001b[39m] \u001b[38;5;241m+\u001b[39m\u001b[38;5;241m=\u001b[39m y\u001b[38;5;241m.\u001b[39mnumel()\n\u001b[0;32m      7\u001b[0m     i \u001b[38;5;241m+\u001b[39m\u001b[38;5;241m=\u001b[39m \u001b[38;5;241m1\u001b[39m\n",
      "Cell \u001b[1;32mIn[16], line 78\u001b[0m, in \u001b[0;36mGoogLeNet.update\u001b[1;34m(self, X, y, lr)\u001b[0m\n\u001b[0;32m     76\u001b[0m y_hat \u001b[38;5;241m=\u001b[39m \u001b[38;5;28mself\u001b[39m\u001b[38;5;241m.\u001b[39m_forward(X)\n\u001b[0;32m     77\u001b[0m l \u001b[38;5;241m=\u001b[39m \u001b[38;5;28mself\u001b[39m\u001b[38;5;241m.\u001b[39m_loss(y_hat, y)\n\u001b[1;32m---> 78\u001b[0m \u001b[43ml\u001b[49m\u001b[38;5;241;43m.\u001b[39;49m\u001b[43mmean\u001b[49m\u001b[43m(\u001b[49m\u001b[43m)\u001b[49m\u001b[38;5;241;43m.\u001b[39;49m\u001b[43mbackward\u001b[49m\u001b[43m(\u001b[49m\u001b[43m)\u001b[49m\n\u001b[0;32m     79\u001b[0m \u001b[38;5;28mself\u001b[39m\u001b[38;5;241m.\u001b[39mgrad_clipping(\u001b[38;5;241m1\u001b[39m)\n\u001b[0;32m     80\u001b[0m \u001b[38;5;250m\u001b[39m\u001b[38;5;124;03m\"\"\"sgd\"\"\"\u001b[39;00m\n",
      "File \u001b[1;32mC:\\ProgramData\\Anaconda3\\envs\\dl\\lib\\site-packages\\torch\\_tensor.py:487\u001b[0m, in \u001b[0;36mTensor.backward\u001b[1;34m(self, gradient, retain_graph, create_graph, inputs)\u001b[0m\n\u001b[0;32m    477\u001b[0m \u001b[38;5;28;01mif\u001b[39;00m has_torch_function_unary(\u001b[38;5;28mself\u001b[39m):\n\u001b[0;32m    478\u001b[0m     \u001b[38;5;28;01mreturn\u001b[39;00m handle_torch_function(\n\u001b[0;32m    479\u001b[0m         Tensor\u001b[38;5;241m.\u001b[39mbackward,\n\u001b[0;32m    480\u001b[0m         (\u001b[38;5;28mself\u001b[39m,),\n\u001b[1;32m   (...)\u001b[0m\n\u001b[0;32m    485\u001b[0m         inputs\u001b[38;5;241m=\u001b[39minputs,\n\u001b[0;32m    486\u001b[0m     )\n\u001b[1;32m--> 487\u001b[0m \u001b[43mtorch\u001b[49m\u001b[38;5;241;43m.\u001b[39;49m\u001b[43mautograd\u001b[49m\u001b[38;5;241;43m.\u001b[39;49m\u001b[43mbackward\u001b[49m\u001b[43m(\u001b[49m\n\u001b[0;32m    488\u001b[0m \u001b[43m    \u001b[49m\u001b[38;5;28;43mself\u001b[39;49m\u001b[43m,\u001b[49m\u001b[43m \u001b[49m\u001b[43mgradient\u001b[49m\u001b[43m,\u001b[49m\u001b[43m \u001b[49m\u001b[43mretain_graph\u001b[49m\u001b[43m,\u001b[49m\u001b[43m \u001b[49m\u001b[43mcreate_graph\u001b[49m\u001b[43m,\u001b[49m\u001b[43m \u001b[49m\u001b[43minputs\u001b[49m\u001b[38;5;241;43m=\u001b[39;49m\u001b[43minputs\u001b[49m\n\u001b[0;32m    489\u001b[0m \u001b[43m\u001b[49m\u001b[43m)\u001b[49m\n",
      "File \u001b[1;32mC:\\ProgramData\\Anaconda3\\envs\\dl\\lib\\site-packages\\torch\\autograd\\__init__.py:200\u001b[0m, in \u001b[0;36mbackward\u001b[1;34m(tensors, grad_tensors, retain_graph, create_graph, grad_variables, inputs)\u001b[0m\n\u001b[0;32m    195\u001b[0m     retain_graph \u001b[38;5;241m=\u001b[39m create_graph\n\u001b[0;32m    197\u001b[0m \u001b[38;5;66;03m# The reason we repeat same the comment below is that\u001b[39;00m\n\u001b[0;32m    198\u001b[0m \u001b[38;5;66;03m# some Python versions print out the first line of a multi-line function\u001b[39;00m\n\u001b[0;32m    199\u001b[0m \u001b[38;5;66;03m# calls in the traceback and some print out the last line\u001b[39;00m\n\u001b[1;32m--> 200\u001b[0m \u001b[43mVariable\u001b[49m\u001b[38;5;241;43m.\u001b[39;49m\u001b[43m_execution_engine\u001b[49m\u001b[38;5;241;43m.\u001b[39;49m\u001b[43mrun_backward\u001b[49m\u001b[43m(\u001b[49m\u001b[43m  \u001b[49m\u001b[38;5;66;43;03m# Calls into the C++ engine to run the backward pass\u001b[39;49;00m\n\u001b[0;32m    201\u001b[0m \u001b[43m    \u001b[49m\u001b[43mtensors\u001b[49m\u001b[43m,\u001b[49m\u001b[43m \u001b[49m\u001b[43mgrad_tensors_\u001b[49m\u001b[43m,\u001b[49m\u001b[43m \u001b[49m\u001b[43mretain_graph\u001b[49m\u001b[43m,\u001b[49m\u001b[43m \u001b[49m\u001b[43mcreate_graph\u001b[49m\u001b[43m,\u001b[49m\u001b[43m \u001b[49m\u001b[43minputs\u001b[49m\u001b[43m,\u001b[49m\n\u001b[0;32m    202\u001b[0m \u001b[43m    \u001b[49m\u001b[43mallow_unreachable\u001b[49m\u001b[38;5;241;43m=\u001b[39;49m\u001b[38;5;28;43;01mTrue\u001b[39;49;00m\u001b[43m,\u001b[49m\u001b[43m \u001b[49m\u001b[43maccumulate_grad\u001b[49m\u001b[38;5;241;43m=\u001b[39;49m\u001b[38;5;28;43;01mTrue\u001b[39;49;00m\u001b[43m)\u001b[49m\n",
      "\u001b[1;31mKeyboardInterrupt\u001b[0m: "
     ]
    }
   ],
   "source": [
    "for epoch in range(num_epochs):\n",
    "    metrics = [0, 0]\n",
    "    i = 0\n",
    "    for X, y in train_iter:\n",
    "        l = net.update(X, y, lr=lr)\n",
    "        metrics[0] += l.sum(); metrics[1] += y.numel()\n",
    "        i += 1\n",
    "        print('i %d loss %f' % (i + 1, metrics[0] / metrics[1]))\n",
    "        if i > 30:\n",
    "            break\n",
    "    print('epoch %d loss %f' % (epoch + 1, metrics[0] / metrics[1]))"
   ]
  },
  {
   "cell_type": "code",
   "execution_count": 74,
   "id": "ef4e901f",
   "metadata": {},
   "outputs": [
    {
     "data": {
      "text/plain": [
       "array([<AxesSubplot:title={'center':'ankle boot\\ncoat'}>,\n",
       "       <AxesSubplot:title={'center':'pullover\\ncoat'}>,\n",
       "       <AxesSubplot:title={'center':'trouser\\ncoat'}>,\n",
       "       <AxesSubplot:title={'center':'trouser\\ncoat'}>], dtype=object)"
      ]
     },
     "execution_count": 74,
     "metadata": {},
     "output_type": "execute_result"
    },
    {
     "data": {
      "image/png": "[encoded data removed]",
      "text/plain": [
       "<Figure size 600x150 with 4 Axes>"
      ]
     },
     "metadata": {},
     "output_type": "display_data"
    }
   ],
   "source": [
    "for X, y in test_iter:\n",
    "    break\n",
    "n = 4\n",
    "trues = d2l.get_fashion_mnist_labels(y)\n",
    "preds = d2l.get_fashion_mnist_labels(net(X).argmax(axis=1))\n",
    "titles = [true +'\\n' + pred for true, pred in zip(trues, preds)]\n",
    "d2l.show_images(\n",
    "    X[0:n, 0, :, :], 1, n, titles=titles[0:n])"
   ]
  },
  {
   "cell_type": "code",
   "execution_count": null,
   "id": "594d33fd",
   "metadata": {},
   "outputs": [],
   "source": []
  },
  {
   "cell_type": "code",
   "execution_count": null,
   "id": "b8291bbd",
   "metadata": {},
   "outputs": [],
   "source": []
  },
  {
   "cell_type": "code",
   "execution_count": null,
   "id": "67f2cd12",
   "metadata": {},
   "outputs": [],
   "source": []
  },
  {
   "cell_type": "code",
   "execution_count": null,
   "id": "f44f39b2",
   "metadata": {},
   "outputs": [],
   "source": []
  },
  {
   "cell_type": "code",
   "execution_count": null,
   "id": "70ec09f1",
   "metadata": {},
   "outputs": [],
   "source": []
  },
  {
   "cell_type": "code",
   "execution_count": null,
   "id": "69ba90be",
   "metadata": {},
   "outputs": [],
   "source": []
  }
 ],
 "metadata": {
  "kernelspec": {
   "display_name": "dl",
   "language": "python",
   "name": "dl"
  },
  "language_info": {
   "codemirror_mode": {
    "name": "ipython",
    "version": 3
   },
   "file_extension": ".py",
   "mimetype": "text/x-python",
   "name": "python",
   "nbconvert_exporter": "python",
   "pygments_lexer": "ipython3",
   "version": "3.8.16"
  }
 },
 "nbformat": 4,
 "nbformat_minor": 5
}
