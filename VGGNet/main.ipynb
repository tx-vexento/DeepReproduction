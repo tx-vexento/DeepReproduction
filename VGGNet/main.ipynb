{
 "cells": [
  {
   "cell_type": "code",
   "execution_count": 9,
   "id": "1715fb76",
   "metadata": {},
   "outputs": [],
   "source": [
    "import numpy as np\n",
    "import torch\n",
    "from torch import nn\n",
    "from d2l import torch as d2l\n",
    "from tqdm import tqdm"
   ]
  },
  {
   "cell_type": "code",
   "execution_count": 10,
   "id": "65e3bbd1",
   "metadata": {},
   "outputs": [],
   "source": [
    "\"\"\" \n",
    "卷积朴素实现\n",
    "def conv2d(input, weight, bias=None, stride=1, padding=0):\n",
    "    batch_size, in_channels, in_height, in_width = input.size()\n",
    "    out_channels, _, kernel_height, kernel_width = weight.size()\n",
    "    out_height = int((in_height + 2 * padding - kernel_height) / stride) + 1\n",
    "    out_width = int((in_width + 2 * padding - kernel_width) / stride) + 1\n",
    "    padded_input = torch.nn.functional.pad(input, (padding, padding, padding, padding))\n",
    "    output = torch.zeros(batch_size, out_channels, out_height, out_width)\n",
    "    for b in range(batch_size):\n",
    "        for c_out in range(out_channels):\n",
    "            for h_out in range(out_height):\n",
    "                for w_out in range(out_width):\n",
    "                    h_start = h_out * stride\n",
    "                    w_start = w_out * stride\n",
    "                    h_end = h_start + kernel_height\n",
    "                    w_end = w_start + kernel_width\n",
    "                    input_patch = padded_input[b, :, h_start:h_end, w_start:w_end]\n",
    "                    output[b, c_out, h_out, w_out] = torch.sum(input_patch * weight[c_out]) + (bias[c_out] if bias is not None else 0)\n",
    "    return output\n",
    "\"\"\"\n",
    "\n",
    "def conv2d(inputs, weight, bias=None, stride=1, padding=0):\n",
    "    padded_input = torch.nn.functional.pad(inputs, (padding, padding, padding, padding))\n",
    "    output = torch.nn.functional.conv2d(padded_input, weight, bias=bias, stride=stride)\n",
    "    return output"
   ]
  },
  {
   "cell_type": "code",
   "execution_count": 11,
   "id": "1621f122",
   "metadata": {},
   "outputs": [],
   "source": [
    "\"\"\"\n",
    "max 池化朴素实现\n",
    "def max_pool2d(input, kernel_size, stride=None, padding=0):\n",
    "    batch_size, channels, height, width = input.size()\n",
    "    output_height = int((height + 2 * padding - kernel_size) / stride) + 1\n",
    "    output_width = int((width + 2 * padding - kernel_size) / stride) + 1\n",
    "    output = torch.zeros(batch_size, channels, output_height, output_width)\n",
    "    for b in range(batch_size):\n",
    "        for c in range(channels):\n",
    "            for i in range(output_height):\n",
    "                for j in range(output_width):\n",
    "                    avg_value = torch.max(\n",
    "                        input[b, c, i * stride:i * stride + kernel_size, j * stride:j * stride + kernel_size]\n",
    "                    )\n",
    "                    output[b, c, i, j] = avg_value\n",
    "    return output\n",
    "\"\"\"\n",
    "\n",
    "def max_pool2d(input, kernel_size, stride=None, padding=0):\n",
    "    output = torch.nn.functional.max_pool2d(input, kernel_size, stride=stride, padding=padding)\n",
    "    return output"
   ]
  },
  {
   "cell_type": "code",
   "execution_count": 12,
   "id": "2a797ca5",
   "metadata": {},
   "outputs": [],
   "source": [
    "def dropout(X, p):\n",
    "    \"\"\"dropout\"\"\"\n",
    "    return X * torch.empty_like(X.bernoulli_(1 - p) / (1 - p))\n",
    "#     return torch.nn.functional.dropout(X, p=p, training=True)"
   ]
  },
  {
   "cell_type": "code",
   "execution_count": 13,
   "id": "173f1e70",
   "metadata": {},
   "outputs": [],
   "source": [
    "def relu(x):\n",
    "    return torch.max(torch.zeros_like(x), x)"
   ]
  },
  {
   "cell_type": "code",
   "execution_count": 14,
   "id": "63c67abe",
   "metadata": {},
   "outputs": [],
   "source": [
    "def sigmoid(x):\n",
    "    return 1 / (1 + torch.exp(-x))"
   ]
  },
  {
   "cell_type": "code",
   "execution_count": 15,
   "id": "4f7c371a",
   "metadata": {},
   "outputs": [],
   "source": [
    "class VggNet:\n",
    "    def __init__(self, conv_arch):\n",
    "        self._init_params(conv_arch)\n",
    "        \n",
    "    def _init_params(self, conv_arch):\n",
    "        \"\"\"初始化参数\"\"\"\n",
    "        def normal(shape):\n",
    "            return torch.nn.init.xavier_uniform_(torch.empty(shape))\n",
    "        def vgg_block(num_convs, in_channels, out_channels):\n",
    "            params = []\n",
    "            for _ in range(num_convs):\n",
    "                \"\"\"输出通道 * 输入通道 * 卷积核边长 * 卷积核边长\"\"\"\n",
    "                params.append([\n",
    "                    normal((out_channels, in_channels, 3, 3)),\n",
    "                    torch.zeros(out_channels, device=device)\n",
    "                ])\n",
    "                in_channels = out_channels\n",
    "            return params\n",
    "        conv_blks = []\n",
    "        in_channels = 1\n",
    "        for (num_convs, out_channels) in conv_arch:\n",
    "            conv_blks.append(vgg_block(num_convs, in_channels, out_channels))\n",
    "            in_channels = out_channels\n",
    "        W_h1h2 = normal((out_channels * 7 * 7, 4096)); b_h1h2 = torch.zeros(4096, device=device);\n",
    "        W_h2h3 = normal((4096, 4096)); b_h2h3 = torch.zeros(4096, device=device);\n",
    "        W_h3y = normal((4096, 10)); b_h3y = torch.zeros(10, device=device);\n",
    "        linears = [W_h1h2, b_h1h2, W_h2h3, b_h2h3, W_h3y, b_h3y]\n",
    "        params = [conv_blks, linears]\n",
    "        self.flt_params = []\n",
    "        for vgg_blk in conv_blks:\n",
    "            for W, b in vgg_blk:\n",
    "                self.flt_params.append(W)\n",
    "                self.flt_params.append(b)\n",
    "        for param in linears:\n",
    "            self.flt_params.append(param)\n",
    "        for param in self.flt_params:\n",
    "            param.requires_grad_(True)\n",
    "        self.params = params\n",
    "    \n",
    "    def _forward(self, X):\n",
    "        \"\"\"推理函数\"\"\"\n",
    "        conv_blks, [W_h1h2, b_h1h2, W_h2h3, b_h2h3, W_h3y, b_h3y] = self.params\n",
    "        for vgg_blk in conv_blks:\n",
    "            for W, b in vgg_blk:\n",
    "                X = relu(conv2d(X, W, b, stride=1, padding=1))\n",
    "            X = max_pool2d(X, kernel_size=2, stride=2, padding=0)\n",
    "        H1 = X.reshape(X.size(0), -1) # 展平\n",
    "        H2 = dropout(relu(H1 @ W_h1h2 + b_h1h2), 0.5)\n",
    "        H3 = dropout(relu(H2 @ W_h2h3 + b_h2h3), 0.5)\n",
    "        Y = sigmoid(H3 @ W_h3y + b_h3y)\n",
    "        return Y\n",
    "    \n",
    "    def update(self, X, y, lr):\n",
    "        \"\"\"更新函数\"\"\"\n",
    "        y_hat = self._forward(X)\n",
    "        l = self._loss(y_hat, y)\n",
    "        l.mean().backward()\n",
    "        self.grad_clipping(1)\n",
    "        \"\"\"sgd\"\"\"\n",
    "        with torch.no_grad():\n",
    "            for param in self.flt_params:\n",
    "                param -= lr * param.grad / X.shape[0]\n",
    "                param.grad.zero_()\n",
    "        return l\n",
    "                \n",
    "    def _loss(self, y_hat, y):\n",
    "        \"\"\"交叉熵损失\"\"\"\n",
    "        return - torch.log(y_hat[range(len(y_hat)), y])\n",
    "                \n",
    "    def __call__(self, X):\n",
    "        return self._forward(X)\n",
    "    \n",
    "    def grad_clipping(self, theta):\n",
    "        norm = torch.sqrt(sum([torch.sum(p ** 2) for p in self.flt_params]))\n",
    "        if norm > theta:\n",
    "            for param in self.flt_params:\n",
    "                param.grad[:] *= theta / norm"
   ]
  },
  {
   "cell_type": "code",
   "execution_count": 18,
   "id": "2ae8e3e3",
   "metadata": {},
   "outputs": [
    {
     "name": "stdout",
     "output_type": "stream",
     "text": [
      "epoch 1 loss 0.696255\n",
      "epoch 2 loss 0.697100\n",
      "epoch 3 loss 0.684306\n"
     ]
    }
   ],
   "source": [
    "device = 'cpu'\n",
    "# conv_arch = ((1, 64), (1, 64), (2, 64), (2, 64), (2, 64))\n",
    "conv_arch = ((1, 64), (1, 128), (2, 256), (2, 512), (2, 512))\n",
    "net = VggNet(conv_arch)\n",
    "X = torch.randn(1, 1, 224, 224); y = torch.tensor([1, 2, 3, 4])\n",
    "for epoch in range(3):\n",
    "    l = net.update(X, y, lr=1)\n",
    "    print('epoch %d loss %f' % (epoch + 1, l.mean()))"
   ]
  },
  {
   "cell_type": "code",
   "execution_count": 24,
   "id": "927d924c",
   "metadata": {},
   "outputs": [],
   "source": [
    "ratio = 4\n",
    "small_conv_arch = [(pair[0], pair[1] // ratio) for pair in conv_arch]\n",
    "net = VggNet(small_conv_arch)\n",
    "\n",
    "lr, num_epochs, batch_size = 0.1, 1, 4\n",
    "train_iter, test_iter = d2l.load_data_fashion_mnist(batch_size, resize=224)"
   ]
  },
  {
   "cell_type": "code",
   "execution_count": 25,
   "id": "d75a403c",
   "metadata": {},
   "outputs": [
    {
     "name": "stdout",
     "output_type": "stream",
     "text": [
      "i 2 loss 0.697039\n",
      "i 3 loss 0.695934\n",
      "i 4 loss 0.695515\n",
      "i 5 loss 0.695254\n",
      "i 6 loss 0.694658\n",
      "i 7 loss 0.694659\n",
      "i 8 loss 0.694569\n",
      "i 9 loss 0.694835\n",
      "i 10 loss 0.694832\n",
      "i 11 loss 0.694741\n",
      "i 12 loss 0.694543\n",
      "epoch 1 loss 0.694543\n"
     ]
    }
   ],
   "source": [
    "for epoch in range(num_epochs):\n",
    "    metrics = [0, 0]\n",
    "    i = 0\n",
    "    for X, y in train_iter:\n",
    "        l = net.update(X, y, lr=lr)\n",
    "        metrics[0] += l.sum(); metrics[1] += y.numel()\n",
    "        i += 1\n",
    "        print('i %d loss %f' % (i + 1, metrics[0] / metrics[1]))\n",
    "        if i > 10:\n",
    "            break\n",
    "    print('epoch %d loss %f' % (epoch + 1, metrics[0] / metrics[1]))"
   ]
  },
  {
   "cell_type": "code",
   "execution_count": 26,
   "id": "ef4e901f",
   "metadata": {},
   "outputs": [
    {
     "data": {
      "text/plain": [
       "array([<AxesSubplot:title={'center':'ankle boot\\nshirt'}>,\n",
       "       <AxesSubplot:title={'center':'pullover\\nankle boot'}>,\n",
       "       <AxesSubplot:title={'center':'trouser\\nankle boot'}>,\n",
       "       <AxesSubplot:title={'center':'trouser\\nshirt'}>], dtype=object)"
      ]
     },
     "execution_count": 26,
     "metadata": {},
     "output_type": "execute_result"
    },
    {
     "data": {
      "image/png": "[encoded data removed]",
      "text/plain": [
       "<Figure size 600x150 with 4 Axes>"
      ]
     },
     "metadata": {},
     "output_type": "display_data"
    }
   ],
   "source": [
    "for X, y in test_iter:\n",
    "    break\n",
    "n = 4\n",
    "trues = d2l.get_fashion_mnist_labels(y)\n",
    "preds = d2l.get_fashion_mnist_labels(net(X).argmax(axis=1))\n",
    "titles = [true +'\\n' + pred for true, pred in zip(trues, preds)]\n",
    "d2l.show_images(\n",
    "    X[0:n, 0, :, :], 1, n, titles=titles[0:n])"
   ]
  },
  {
   "cell_type": "code",
   "execution_count": null,
   "id": "594d33fd",
   "metadata": {},
   "outputs": [],
   "source": []
  },
  {
   "cell_type": "code",
   "execution_count": null,
   "id": "b8291bbd",
   "metadata": {},
   "outputs": [],
   "source": []
  },
  {
   "cell_type": "code",
   "execution_count": null,
   "id": "67f2cd12",
   "metadata": {},
   "outputs": [],
   "source": []
  },
  {
   "cell_type": "code",
   "execution_count": null,
   "id": "f44f39b2",
   "metadata": {},
   "outputs": [],
   "source": []
  },
  {
   "cell_type": "code",
   "execution_count": null,
   "id": "70ec09f1",
   "metadata": {},
   "outputs": [],
   "source": []
  },
  {
   "cell_type": "code",
   "execution_count": null,
   "id": "69ba90be",
   "metadata": {},
   "outputs": [],
   "source": []
  }
 ],
 "metadata": {
  "kernelspec": {
   "display_name": "dl",
   "language": "python",
   "name": "dl"
  },
  "language_info": {
   "codemirror_mode": {
    "name": "ipython",
    "version": 3
   },
   "file_extension": ".py",
   "mimetype": "text/x-python",
   "name": "python",
   "nbconvert_exporter": "python",
   "pygments_lexer": "ipython3",
   "version": "3.8.16"
  }
 },
 "nbformat": 4,
 "nbformat_minor": 5
}
