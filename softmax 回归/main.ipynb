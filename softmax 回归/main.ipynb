{
 "cells": [
  {
   "cell_type": "code",
   "execution_count": 6,
   "id": "c73c9fbe",
   "metadata": {},
   "outputs": [],
   "source": [
    "import torch\n",
    "from d2l import torch as d2l"
   ]
  },
  {
   "cell_type": "code",
   "execution_count": 36,
   "id": "4e2ef6a4",
   "metadata": {},
   "outputs": [],
   "source": [
    "class SoftMax:\n",
    "    def __init__(self, num_inputs, num_outputs):\n",
    "        self.num_inputs, self.num_outputs = num_inputs, num_outputs\n",
    "        self.params = self._init_params()\n",
    "        \n",
    "    def _init_params(self):\n",
    "        \"\"\"初始化参数\"\"\"\n",
    "        num_inputs = self.num_inputs; num_outputs = self.num_outputs\n",
    "        def normal(shape):\n",
    "            return torch.randn(size=shape, device=device) * 0.01\n",
    "        W = normal((num_inputs, num_outputs)); b = torch.zeros(num_outputs, device=device)\n",
    "        params = [W, b]\n",
    "        for param in params:\n",
    "            param.requires_grad_(True)\n",
    "        return params\n",
    "    \n",
    "    def softmax(self, X):\n",
    "        X_exp = torch.exp(X)\n",
    "        partition = X_exp.sum(1, keepdim=True)\n",
    "        return X_exp / partition  # 这里应用了广播机制\n",
    "    \n",
    "    def _forward(self, inputs):\n",
    "        \"\"\"推理函数\"\"\"\n",
    "        outputs = []\n",
    "        W, b = self.params\n",
    "        for X in inputs:\n",
    "            Y = self.softmax(X.reshape((-1, W.shape[0])) @ W + b)\n",
    "            outputs.append(Y)\n",
    "        return torch.cat(outputs, dim=0)\n",
    "    \n",
    "    def update(self, X, y, lr):\n",
    "        \"\"\"更新函数\"\"\"\n",
    "        y_hat = self._forward(X)\n",
    "        l = self._loss(y_hat, y)\n",
    "        l.mean().backward()\n",
    "        \"\"\"sgd\"\"\"\n",
    "        with torch.no_grad():\n",
    "            for param in self.params:\n",
    "                param -= lr * param.grad / X.shape[0]\n",
    "                param.grad.zero_()\n",
    "        return l\n",
    "                \n",
    "    def _loss(self, y_hat, y):\n",
    "        \"\"\"交叉熵损失\"\"\"\n",
    "        return - torch.log(y_hat[range(len(y_hat)), y])\n",
    "                \n",
    "    def __call__(self, X):\n",
    "        return self._forward(X)"
   ]
  },
  {
   "cell_type": "code",
   "execution_count": 26,
   "id": "7ae27ddd",
   "metadata": {},
   "outputs": [],
   "source": [
    "from tqdm import tqdm"
   ]
  },
  {
   "cell_type": "code",
   "execution_count": 33,
   "id": "35d21c36",
   "metadata": {},
   "outputs": [],
   "source": [
    "batch_size, device = 256, 'cpu'\n",
    "train_iter, test_iter = d2l.load_data_fashion_mnist(batch_size, resize=28)\n",
    "num_epochs, num_inputs, num_outputs = 3, 784, 10\n",
    "net = SoftMax(num_inputs, num_outputs)"
   ]
  },
  {
   "cell_type": "code",
   "execution_count": 34,
   "id": "809bd1d7",
   "metadata": {},
   "outputs": [
    {
     "name": "stderr",
     "output_type": "stream",
     "text": [
      "100%|█████████████████████████████████████████████████████████████| 235/235 [00:21<00:00, 10.69it/s]\n"
     ]
    },
    {
     "name": "stdout",
     "output_type": "stream",
     "text": [
      "epoch 1 loss 1.717922\n"
     ]
    },
    {
     "name": "stderr",
     "output_type": "stream",
     "text": [
      "100%|█████████████████████████████████████████████████████████████| 235/235 [00:22<00:00, 10.57it/s]\n"
     ]
    },
    {
     "name": "stdout",
     "output_type": "stream",
     "text": [
      "epoch 2 loss 1.207941\n"
     ]
    },
    {
     "name": "stderr",
     "output_type": "stream",
     "text": [
      "100%|█████████████████████████████████████████████████████████████| 235/235 [00:22<00:00, 10.50it/s]"
     ]
    },
    {
     "name": "stdout",
     "output_type": "stream",
     "text": [
      "epoch 3 loss 1.028340\n"
     ]
    },
    {
     "name": "stderr",
     "output_type": "stream",
     "text": [
      "\n"
     ]
    }
   ],
   "source": [
    "for epoch in range(num_epochs):\n",
    "    metrics = [0, 0]\n",
    "    for X, y in tqdm(train_iter, ncols=100):\n",
    "        l = net.update(X, y, lr=1)\n",
    "        metrics[0] += l.sum(); metrics[1] += y.numel()\n",
    "    print('epoch %d loss %f' % (epoch + 1, metrics[0] / metrics[1]))"
   ]
  },
  {
   "cell_type": "code",
   "execution_count": 35,
   "id": "5445e1b7",
   "metadata": {},
   "outputs": [
    {
     "data": {
      "text/plain": [
       "array([<AxesSubplot:title={'center':'ankle boot\\nankle boot'}>,\n",
       "       <AxesSubplot:title={'center':'pullover\\npullover'}>,\n",
       "       <AxesSubplot:title={'center':'trouser\\ntrouser'}>,\n",
       "       <AxesSubplot:title={'center':'trouser\\ntrouser'}>,\n",
       "       <AxesSubplot:title={'center':'shirt\\nshirt'}>,\n",
       "       <AxesSubplot:title={'center':'trouser\\ntrouser'}>], dtype=object)"
      ]
     },
     "execution_count": 35,
     "metadata": {},
     "output_type": "execute_result"
    },
    {
     "data": {
      "image/png": "[encoded data removed]",
      "text/plain": [
       "<Figure size 900x150 with 6 Axes>"
      ]
     },
     "metadata": {},
     "output_type": "display_data"
    }
   ],
   "source": [
    "for X, y in test_iter:\n",
    "    break\n",
    "n = 6\n",
    "trues = d2l.get_fashion_mnist_labels(y)\n",
    "preds = d2l.get_fashion_mnist_labels(net(X).argmax(axis=1))\n",
    "titles = [true +'\\n' + pred for true, pred in zip(trues, preds)]\n",
    "d2l.show_images(\n",
    "    X[0:n].reshape((n, 28, 28)), 1, n, titles=titles[0:n])"
   ]
  },
  {
   "cell_type": "code",
   "execution_count": null,
   "id": "6c9428ff",
   "metadata": {},
   "outputs": [],
   "source": []
  },
  {
   "cell_type": "code",
   "execution_count": null,
   "id": "ccffaf64",
   "metadata": {},
   "outputs": [],
   "source": []
  }
 ],
 "metadata": {
  "kernelspec": {
   "display_name": "dl",
   "language": "python",
   "name": "dl"
  },
  "language_info": {
   "codemirror_mode": {
    "name": "ipython",
    "version": 3
   },
   "file_extension": ".py",
   "mimetype": "text/x-python",
   "name": "python",
   "nbconvert_exporter": "python",
   "pygments_lexer": "ipython3",
   "version": "3.8.16"
  }
 },
 "nbformat": 4,
 "nbformat_minor": 5
}
