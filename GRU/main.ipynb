{
 "cells": [
  {
   "cell_type": "code",
   "execution_count": 89,
   "id": "9ddbf3c1",
   "metadata": {},
   "outputs": [],
   "source": [
    "import torch\n",
    "from torch.nn import functional as F\n",
    "from d2l import torch as d2l"
   ]
  },
  {
   "cell_type": "markdown",
   "id": "08da9cd9",
   "metadata": {},
   "source": [
    "$$ R_{t} = \\sigma(X_{t}W_{xr} + H_{t-1}W_{hr} + b_{r}) $$\n",
    "$$ Z_{t} = \\sigma(X_{t}W_{xz} + H_{t-1}W_{hz} + b_{z}) $$\n",
    "$$ \\hat{H}_{t} = tanh(X_{t}W_{xh}+(R_{t} \\odot H_{t-1})W_{hh} + b_{h}) $$\n",
    "$$ H_{t} = Z_{t} \\odot H_{t-1} + (1 - Z_{t}) \\odot \\hat{H}_{t} $$\n",
    "$$ Y_{t} = H_{t}W_{hq} +b_{q} $$"
   ]
  },
  {
   "cell_type": "code",
   "execution_count": 126,
   "id": "92c1f338",
   "metadata": {},
   "outputs": [],
   "source": [
    "class GRU:\n",
    "    def __init__(self, vocab_size, num_hiddens, get_params, init_state, forward_fn):\n",
    "        self.vocab_size, self.num_hiddens = vocab_size, num_hiddens\n",
    "        self.params = self.init_params()\n",
    "    \n",
    "    def init_params(self):\n",
    "        num_inputs = num_outputs = self.vocab_size\n",
    "        num_hiddens = self.num_hiddens\n",
    "        def normal(shape):\n",
    "            return torch.randn(size=shape, device=device) * 0.01\n",
    "        def three():\n",
    "            return (normal((num_inputs, num_hiddens)), \n",
    "                    normal((num_hiddens, num_hiddens)), \n",
    "                    torch.zeros(num_hiddens, device=device))\n",
    "        W_xr, W_hr, b_r = three()\n",
    "        W_xz, W_hz, b_z = three()\n",
    "        W_xh, W_hh, b_h = three()\n",
    "        W_hq = normal((num_hiddens, num_outputs)); b_q = torch.zeros(num_outputs, device=device)\n",
    "        params = [W_xr, W_hr, b_r, W_xz, W_hz, b_z, W_xh, W_hh, b_h, W_hq, b_q]\n",
    "        for param in params:\n",
    "            param.requires_grad_(True)\n",
    "        return params\n",
    "    \n",
    "    def init_state(self, batch_size):\n",
    "        return (torch.zeros((batch_size, self.num_hiddens), device=device),)\n",
    "    \n",
    "    def forward(self, inputs, state):\n",
    "        W_xr, W_hr, b_r, W_xz, W_hz, b_z, W_xh, W_hh, b_h, W_hq, b_q = self.params\n",
    "        outputs = []; H, = state\n",
    "        for X in inputs:\n",
    "            R = torch.sigmoid(X @ W_xr + H @ W_hr + b_r)\n",
    "            Z = torch.sigmoid(X @ W_xz + H @ W_hz + b_z)\n",
    "            H_hat = torch.tanh(X @ W_xh + (R * H) @ W_hh + b_h)\n",
    "            H = Z * H + (1 - Z) * H_hat\n",
    "            Y = H @ W_hq + b_q\n",
    "            outputs.append(Y)\n",
    "        return torch.cat(outputs, dim=0), (H, )\n",
    "    \n",
    "    def __call__(self, X, state):\n",
    "        inputs = F.one_hot(X.T, self.vocab_size).type(torch.float32)\n",
    "        return self.forward(inputs, state)\n",
    "    \n",
    "    def grad_clipping(self, theta):\n",
    "        norm = torch.sqrt(sum([torch.sum(param.grad ** 2) for param in self.params]))\n",
    "        if norm > theta:\n",
    "            for param in self.params:\n",
    "                param.grad[:] *= theta / norm      \n",
    "\n",
    "def train(net, train_iter, lr, num_epochs):\n",
    "    loss = nn.CrossEntropyLoss()\n",
    "    updater = torch.optim.SGD(net.params, lr)\n",
    "    for epoch in tqdm(range(num_epochs), ncols=100):\n",
    "        state = None\n",
    "        metrics = [0, 0]\n",
    "        for X, Y in train_iter:\n",
    "            if state is None:\n",
    "                state = net.init_state(X.shape[0])\n",
    "            for s in state: s.detach_()\n",
    "            y_hat, state = net(X, state)\n",
    "            y = Y.T.reshape(-1)\n",
    "            l = loss(y_hat, y.long()).mean()\n",
    "            l.backward()\n",
    "            net.grad_clipping(1)\n",
    "            updater.step()\n",
    "            metrics[0] += l * y.numel(); metrics[1] += y.numel()\n",
    "        l = torch.exp(metrics[0] / metrics[1])\n",
    "    print('困惑度 %f' % l)"
   ]
  },
  {
   "cell_type": "code",
   "execution_count": 127,
   "id": "fbd43bd1",
   "metadata": {},
   "outputs": [],
   "source": [
    "def seq_data_iter_sequential(corpus, batch_size, num_steps):  #@save\n",
    "    \"\"\"使用顺序分区生成一个小批量子序列\"\"\"\n",
    "    offset = random.randint(0, num_steps)\n",
    "    num_tokens = ((len(corpus) - offset - 1) // batch_size) * batch_size\n",
    "    Xs = torch.tensor(corpus[offset: offset + num_tokens])\n",
    "    Ys = torch.tensor(corpus[offset + 1: offset + 1 + num_tokens])\n",
    "    Xs, Ys = Xs.reshape(batch_size, -1), Ys.reshape(batch_size, -1)\n",
    "    num_batches = Xs.shape[1] // num_steps\n",
    "    for i in range(0, num_steps * num_batches, num_steps):\n",
    "        X = Xs[:, i: i + num_steps]\n",
    "        Y = Ys[:, i: i + num_steps]\n",
    "        yield X, Y\n",
    "\n",
    "def tokenize(lines, token='word'): \n",
    "    \"\"\"将文本行拆分为单词或字符词元\"\"\"\n",
    "    if token == 'word':\n",
    "        return [line.split() for line in lines]\n",
    "    elif token == 'char':\n",
    "        return [list(line) for line in lines]\n",
    "    else:\n",
    "        print('错误：未知词元类型：' + token)\n",
    "\n",
    "def load_corpus_vocab(max_tokens=-1): \n",
    "    \"\"\"词元索引列表和词表\"\"\"\n",
    "    lines = texts\n",
    "    tokens = d2l.tokenize(lines)\n",
    "    vocab = d2l.Vocab(tokens)\n",
    "    corpus = [vocab[token] for line in tokens for token in line]\n",
    "    if max_tokens:\n",
    "        corpus = corpus[:max_tokens]\n",
    "    return corpus, vocab\n",
    "\n",
    "class SeqDataLoader: \n",
    "    \"\"\"加载序列数据的迭代器\"\"\"\n",
    "    def __init__(self, batch_size, num_steps, use_random_iter, max_tokens):\n",
    "        if use_random_iter:\n",
    "            self.data_iter_fn = d2l.seq_data_iter_random\n",
    "        else:\n",
    "            self.data_iter_fn = d2l.seq_data_iter_sequential\n",
    "        self.corpus, self.vocab = load_corpus_vocab(max_tokens)\n",
    "        self.batch_size, self.num_steps = batch_size, num_steps\n",
    "\n",
    "    def __iter__(self):\n",
    "        return self.data_iter_fn(self.corpus, self.batch_size, self.num_steps)\n",
    "    \n",
    "def load_data(batch_size, num_steps,  #@save\n",
    "                           use_random_iter=False, max_tokens=10000):\n",
    "    \"\"\"返回迭代器和词表\"\"\"\n",
    "    data_iter = SeqDataLoader(\n",
    "        batch_size, num_steps, use_random_iter, max_tokens)\n",
    "    return data_iter, data_iter.vocab"
   ]
  },
  {
   "cell_type": "code",
   "execution_count": 128,
   "id": "952427d8",
   "metadata": {
    "scrolled": true
   },
   "outputs": [
    {
     "name": "stderr",
     "output_type": "stream",
     "text": [
      "100%|███████████████████████████████████████████████████████████████| 10/10 [00:01<00:00,  8.27it/s]"
     ]
    },
    {
     "name": "stdout",
     "output_type": "stream",
     "text": [
      "困惑度 1.000001\n"
     ]
    },
    {
     "name": "stderr",
     "output_type": "stream",
     "text": [
      "\n"
     ]
    }
   ],
   "source": [
    "batch_size, num_steps = 32, 35\n",
    "# train_iter, vocab = d2l.load_data_time_machine(batch_size, num_steps)\n",
    "texts = ['I love cat'] * 1000\n",
    "train_iter, vocab = load_data(batch_size, num_steps, max_tokens=10000)\n",
    "vocab_size, num_hiddens, device = len(vocab), 256, 'cpu'\n",
    "num_epochs, lr = 10, 1\n",
    "net = GRU(vocab_size, num_hiddens, get_params, init_gru_state, gru)\n",
    "train(net, train_iter, lr, num_epochs)"
   ]
  },
  {
   "cell_type": "code",
   "execution_count": 129,
   "id": "be8ddeb8",
   "metadata": {},
   "outputs": [],
   "source": [
    "def predict(prefix, num_preds, net, vocab):\n",
    "    state = net.init_state(1); outputs = [vocab[prefix[0]]]\n",
    "    get_input = lambda: torch.tensor([outputs[-1]], device=device).reshape(1, 1)\n",
    "    for y in prefix[1:]:\n",
    "        _, state = net(get_input(), state)\n",
    "        outputs.append(vocab[y])\n",
    "    for _ in range(num_preds):\n",
    "        y, state = net(get_input(), state)\n",
    "        outputs.append(int(y.argmax(dim=1).reshape(1, 1)))\n",
    "    return ' '.join([vocab.idx_to_token[i] for i in outputs])"
   ]
  },
  {
   "cell_type": "code",
   "execution_count": 130,
   "id": "b412db39",
   "metadata": {},
   "outputs": [
    {
     "data": {
      "text/plain": [
       "'I love cat'"
      ]
     },
     "execution_count": 130,
     "metadata": {},
     "output_type": "execute_result"
    }
   ],
   "source": [
    "predict('I love'.split(' '), 1, net, vocab)"
   ]
  },
  {
   "cell_type": "code",
   "execution_count": null,
   "id": "6763a6bb",
   "metadata": {},
   "outputs": [],
   "source": []
  },
  {
   "cell_type": "code",
   "execution_count": null,
   "id": "e88cc281",
   "metadata": {},
   "outputs": [],
   "source": []
  }
 ],
 "metadata": {
  "kernelspec": {
   "display_name": "dl",
   "language": "python",
   "name": "dl"
  },
  "language_info": {
   "codemirror_mode": {
    "name": "ipython",
    "version": 3
   },
   "file_extension": ".py",
   "mimetype": "text/x-python",
   "name": "python",
   "nbconvert_exporter": "python",
   "pygments_lexer": "ipython3",
   "version": "3.8.16"
  }
 },
 "nbformat": 4,
 "nbformat_minor": 5
}
